{
  "nbformat": 4,
  "nbformat_minor": 0,
  "metadata": {
    "colab": {
      "provenance": []
    },
    "kernelspec": {
      "name": "python3",
      "display_name": "Python 3"
    },
    "language_info": {
      "name": "python"
    }
  },
  "cells": [
    {
      "cell_type": "code",
      "source": [
        "#HAPPY LEARNING"
      ],
      "metadata": {
        "id": "tcmIGrqu3MN4"
      },
      "execution_count": null,
      "outputs": []
    },
    {
      "cell_type": "code",
      "source": [
        "#Basic\n",
        "print(\"Hello world\")"
      ],
      "metadata": {
        "colab": {
          "base_uri": "https://localhost:8080/"
        },
        "id": "GBvT93XNwW8e",
        "outputId": "d81a2104-cb53-4e47-f91c-821f9cddfc38"
      },
      "execution_count": null,
      "outputs": [
        {
          "output_type": "stream",
          "name": "stdout",
          "text": [
            "Hello world\n"
          ]
        }
      ]
    },
    {
      "cell_type": "code",
      "execution_count": null,
      "metadata": {
        "colab": {
          "base_uri": "https://localhost:8080/"
        },
        "id": "YqfiEC2ztQvW",
        "outputId": "d1e33b18-8bb9-4a99-ff07-f064350110cd"
      },
      "outputs": [
        {
          "output_type": "stream",
          "name": "stdout",
          "text": [
            "3 + 7\n",
            "10\n"
          ]
        }
      ],
      "source": [
        "#Adding 2 veriables\n",
        "a=3\n",
        "b=7\n",
        "c= a+b\n",
        "print(a,\"+\",b)\n",
        "print(c)\n"
      ]
    },
    {
      "cell_type": "code",
      "source": [
        "#string  text    \"Faryal\",\" Sayyad\", Abdur rafay\n",
        "#integer int numbers/ numerics 1, 33, 45, 6789\n",
        "#Float   decimal numers 0.1, 7.8, 4.6666\n",
        "#Boolean True / False"
      ],
      "metadata": {
        "id": "zCd-Kolatfez"
      },
      "execution_count": null,
      "outputs": []
    },
    {
      "cell_type": "code",
      "source": [
        "y= \"hamza\", 1, 0.8\n",
        "print(y)\n",
        "type(y)"
      ],
      "metadata": {
        "colab": {
          "base_uri": "https://localhost:8080/"
        },
        "id": "GSLeVZXVwVED",
        "outputId": "a6f57861-6195-49b4-8a16-0ee07190e18a"
      },
      "execution_count": null,
      "outputs": [
        {
          "output_type": "stream",
          "name": "stdout",
          "text": [
            "('hamza', 1, 0.8)\n"
          ]
        },
        {
          "output_type": "execute_result",
          "data": {
            "text/plain": [
              "tuple"
            ]
          },
          "metadata": {},
          "execution_count": 9
        }
      ]
    },
    {
      "cell_type": "code",
      "source": [
        "z = \"hamza\"\n",
        "s = 25\n",
        "print(\"my name is :\",z,\", i am :\",s,\"years old\")"
      ],
      "metadata": {
        "colab": {
          "base_uri": "https://localhost:8080/"
        },
        "id": "zFxvFm07xcpE",
        "outputId": "eb8af0f9-245a-41b2-c5c8-d917c534e89a"
      },
      "execution_count": null,
      "outputs": [
        {
          "output_type": "stream",
          "name": "stdout",
          "text": [
            "my name is : hamza , i am : 25 years old\n"
          ]
        }
      ]
    },
    {
      "cell_type": "code",
      "source": [
        "#F String\n",
        "print(f\"my name is :\",{z})"
      ],
      "metadata": {
        "colab": {
          "base_uri": "https://localhost:8080/"
        },
        "id": "AtetpvhLx532",
        "outputId": "6078ba8c-de75-455d-91b4-87e34ab082dc"
      },
      "execution_count": null,
      "outputs": [
        {
          "output_type": "stream",
          "name": "stdout",
          "text": [
            "my name is : {'hamza'}\n"
          ]
        }
      ]
    },
    {
      "cell_type": "code",
      "source": [
        "#Taking Input\n",
        "My_Name = input(\"what is your name :\")\n",
        "print(My_Name.upper())\n",
        "print(My_Name.lower())"
      ],
      "metadata": {
        "colab": {
          "base_uri": "https://localhost:8080/"
        },
        "id": "Xj5SHJLTyTjj",
        "outputId": "01cf6677-fe46-4497-a0f6-7446e094f0d4"
      },
      "execution_count": null,
      "outputs": [
        {
          "output_type": "stream",
          "name": "stdout",
          "text": [
            "what is your name :hamza alvi\n",
            "HAMZA ALVI\n",
            "hamza alvi\n"
          ]
        }
      ]
    },
    {
      "cell_type": "code",
      "source": [
        "#Arithematics\n",
        "#Comparison\n",
        "#Logical\n"
      ],
      "metadata": {
        "id": "3YxuYfg6ymvU"
      },
      "execution_count": null,
      "outputs": []
    },
    {
      "cell_type": "markdown",
      "source": [
        "Arithematics"
      ],
      "metadata": {
        "id": "XJ434gzKzhxz"
      }
    },
    {
      "cell_type": "code",
      "source": [
        "#addition  +\n",
        "#subtraction -\n",
        "#multiplication *\n",
        "#division /\n",
        "#floor division //\n",
        "#exponential **\n",
        "# modulus %\n",
        "\n",
        "\n",
        "print(\"Addition:\", a+b)\n",
        "print(\"Subtraction:\", a-b)\n",
        "print(\"Multiplication:\", a*b)\n",
        "print(\"Division:\", a/b)\n",
        "print(\"Modulus:\", a%b)  #Remainder\n",
        "print(\"Exponential:\", a**b)\n",
        "print(\"Floor Division:\", a//b)  #neglect the numbers after point(.)\n",
        "\n"
      ],
      "metadata": {
        "colab": {
          "base_uri": "https://localhost:8080/"
        },
        "id": "KTTJGW7_zbMR",
        "outputId": "1949aeb6-4c5b-47d8-b841-c5e77fcc3bff"
      },
      "execution_count": null,
      "outputs": [
        {
          "output_type": "stream",
          "name": "stdout",
          "text": [
            "Addition: 10\n",
            "Subtraction: -4\n",
            "Multiplication: 21\n",
            "Division: 0.42857142857142855\n",
            "Modulus: 3\n",
            "Exponential: 2187\n",
            "Floor Division: 0\n"
          ]
        }
      ]
    },
    {
      "cell_type": "code",
      "source": [
        "#Comparison operators use to compare two values\n",
        "# Always returns boolean expression\n",
        "\n",
        "\n",
        "# < less then\n",
        "# > greater\n",
        "# >=\n",
        "# <=\n",
        "# ==\n",
        "# !=\n",
        "\n",
        "print(a == b)\n",
        "print( a < b)\n",
        "print( a <= b)\n",
        "print( a > b)\n",
        "print( a >= b)\n",
        "print( a != b)"
      ],
      "metadata": {
        "colab": {
          "base_uri": "https://localhost:8080/"
        },
        "id": "yVtqLvGyz193",
        "outputId": "12e9a2f3-ce48-49aa-bad7-b7bbe5e1fa7e"
      },
      "execution_count": null,
      "outputs": [
        {
          "output_type": "stream",
          "name": "stdout",
          "text": [
            "False\n",
            "True\n",
            "True\n",
            "False\n",
            "False\n",
            "True\n"
          ]
        }
      ]
    },
    {
      "cell_type": "markdown",
      "source": [
        "Logical operators"
      ],
      "metadata": {
        "id": "slOsBzd-0Pa_"
      }
    },
    {
      "cell_type": "code",
      "source": [
        "q = 24\n",
        "s = 34\n",
        "if s > q or s == q:\n",
        "    print(\"function is working\")"
      ],
      "metadata": {
        "colab": {
          "base_uri": "https://localhost:8080/"
        },
        "id": "TnhYYJzO0ECK",
        "outputId": "4f32747f-1d96-4030-ba4b-de16d6c126a1"
      },
      "execution_count": null,
      "outputs": [
        {
          "output_type": "stream",
          "name": "stdout",
          "text": [
            "function is working\n"
          ]
        }
      ]
    },
    {
      "cell_type": "code",
      "source": [
        "if s > q and s == q:\n",
        "    print(\"function is working\")"
      ],
      "metadata": {
        "id": "jDtm_nVU0Y8D"
      },
      "execution_count": null,
      "outputs": []
    },
    {
      "cell_type": "code",
      "source": [
        "if s > q and s != q:\n",
        "    print(\"function is working\")"
      ],
      "metadata": {
        "colab": {
          "base_uri": "https://localhost:8080/"
        },
        "id": "3KWHIedo0bXt",
        "outputId": "fe6a9591-e8b3-450e-bb9a-70e87632f160"
      },
      "execution_count": null,
      "outputs": [
        {
          "output_type": "stream",
          "name": "stdout",
          "text": [
            "function is working\n"
          ]
        }
      ]
    },
    {
      "cell_type": "markdown",
      "source": [
        "Data structures"
      ],
      "metadata": {
        "id": "eRun0szT0kfp"
      }
    },
    {
      "cell_type": "code",
      "source": [
        "#list\n",
        "#tuple\n",
        "#set\n",
        "#dictionary"
      ],
      "metadata": {
        "id": "eTvCRELd0iAA"
      },
      "execution_count": null,
      "outputs": []
    },
    {
      "cell_type": "markdown",
      "source": [
        "List\n"
      ],
      "metadata": {
        "id": "Mxedh13W0xw4"
      }
    },
    {
      "cell_type": "code",
      "source": [
        "# We can modify, append list\n",
        "# we can remove items from the list\n",
        "# we can sort and reverse list\n",
        "# we can count items in the list"
      ],
      "metadata": {
        "id": "_k_QyzXt0vkS"
      },
      "execution_count": null,
      "outputs": []
    },
    {
      "cell_type": "code",
      "source": [
        "fruits = [\"Apple\", \"watermelon\", \"Banana\", \"cherry\", 1, True, 1, 1]\n",
        "fruits"
      ],
      "metadata": {
        "colab": {
          "base_uri": "https://localhost:8080/"
        },
        "id": "lHvqv1-M0z7N",
        "outputId": "e76baf52-a1d1-453d-e2c5-b763098fdee6"
      },
      "execution_count": null,
      "outputs": [
        {
          "output_type": "execute_result",
          "data": {
            "text/plain": [
              "['Apple', 'watermelon', 'Banana', 'cherry', 1, True, 1, 1]"
            ]
          },
          "metadata": {},
          "execution_count": 43
        }
      ]
    },
    {
      "cell_type": "code",
      "source": [
        "#indexing  always start from 0\n",
        "\n",
        "fruits.remove(\"Apple\")"
      ],
      "metadata": {
        "id": "vSu4bu6Z0-cy"
      },
      "execution_count": null,
      "outputs": []
    },
    {
      "cell_type": "code",
      "source": [
        "fruits.append(\"kiwi fruit\")"
      ],
      "metadata": {
        "id": "NGZykNjs1C4G"
      },
      "execution_count": null,
      "outputs": []
    },
    {
      "cell_type": "code",
      "source": [
        "fruits.reverse()"
      ],
      "metadata": {
        "id": "97ST_dZs1H3n"
      },
      "execution_count": null,
      "outputs": []
    },
    {
      "cell_type": "code",
      "source": [
        "fruits.count(\"Banana\")"
      ],
      "metadata": {
        "colab": {
          "base_uri": "https://localhost:8080/"
        },
        "id": "JVPYggsK1bHW",
        "outputId": "ee950263-3a13-427d-c062-1e84cdee627b"
      },
      "execution_count": null,
      "outputs": [
        {
          "output_type": "execute_result",
          "data": {
            "text/plain": [
              "1"
            ]
          },
          "metadata": {},
          "execution_count": 47
        }
      ]
    },
    {
      "cell_type": "code",
      "source": [
        "print(fruits)"
      ],
      "metadata": {
        "colab": {
          "base_uri": "https://localhost:8080/"
        },
        "id": "tF3Pplgy1LMw",
        "outputId": "a8fa62da-e47a-4ead-c362-47caff78e60a"
      },
      "execution_count": null,
      "outputs": [
        {
          "output_type": "stream",
          "name": "stdout",
          "text": [
            "['kiwi fruit', 1, 1, True, 1, 'cherry', 'Banana', 'watermelon']\n"
          ]
        }
      ]
    },
    {
      "cell_type": "code",
      "source": [
        "fruits.clear()\n",
        "print(fruits)"
      ],
      "metadata": {
        "colab": {
          "base_uri": "https://localhost:8080/"
        },
        "id": "8idm10g41Pz4",
        "outputId": "6094a6e9-873c-4d48-dc5b-a3fb3c588357"
      },
      "execution_count": null,
      "outputs": [
        {
          "output_type": "stream",
          "name": "stdout",
          "text": [
            "[]\n"
          ]
        }
      ]
    },
    {
      "cell_type": "code",
      "source": [
        "fruits1 = [\"Apple\", \"watermelon\", \"Banana\", \"cherry\", \"mango\"]\n",
        "fruits1"
      ],
      "metadata": {
        "colab": {
          "base_uri": "https://localhost:8080/"
        },
        "id": "96wFgZXU11Ew",
        "outputId": "a93e93e9-638b-4f2e-dd93-8575fff3906d"
      },
      "execution_count": null,
      "outputs": [
        {
          "output_type": "execute_result",
          "data": {
            "text/plain": [
              "['Apple', 'watermelon', 'Banana', 'cherry', 'mango']"
            ]
          },
          "metadata": {},
          "execution_count": 51
        }
      ]
    },
    {
      "cell_type": "code",
      "source": [
        "fruits1.sort()\n",
        "fruits1"
      ],
      "metadata": {
        "colab": {
          "base_uri": "https://localhost:8080/"
        },
        "id": "yD2tzU7S2Yd-",
        "outputId": "d7ed3a39-5853-45f0-c25f-77ef80d7f45c"
      },
      "execution_count": null,
      "outputs": [
        {
          "output_type": "execute_result",
          "data": {
            "text/plain": [
              "['Apple', 'Banana', 'cherry', 'mango', 'watermelon']"
            ]
          },
          "metadata": {},
          "execution_count": 53
        }
      ]
    },
    {
      "cell_type": "markdown",
      "source": [
        "Tuple"
      ],
      "metadata": {
        "id": "wnKkP7u22xj-"
      }
    },
    {
      "cell_type": "code",
      "source": [
        "# we can't modify tuple\n",
        "# we can't add and remove items"
      ],
      "metadata": {
        "id": "QLTdY7xU2oL1"
      },
      "execution_count": null,
      "outputs": []
    },
    {
      "cell_type": "code",
      "source": [
        "my_tuple = (\"mango\", 1, 2, 3)\n",
        "my_tuple"
      ],
      "metadata": {
        "colab": {
          "base_uri": "https://localhost:8080/"
        },
        "id": "FeDqnwTZ22TC",
        "outputId": "6b731f00-f915-43a0-c90e-02bce4987128"
      },
      "execution_count": null,
      "outputs": [
        {
          "output_type": "execute_result",
          "data": {
            "text/plain": [
              "('mango', 1, 2, 3)"
            ]
          },
          "metadata": {},
          "execution_count": 55
        }
      ]
    },
    {
      "cell_type": "code",
      "source": [
        "len(my_tuple)"
      ],
      "metadata": {
        "colab": {
          "base_uri": "https://localhost:8080/"
        },
        "id": "CSwPo2vO3GCX",
        "outputId": "1c05b4e1-67a3-48e6-fba2-fde1d3945698"
      },
      "execution_count": null,
      "outputs": [
        {
          "output_type": "execute_result",
          "data": {
            "text/plain": [
              "4"
            ]
          },
          "metadata": {},
          "execution_count": 57
        }
      ]
    },
    {
      "cell_type": "markdown",
      "source": [
        "Sets"
      ],
      "metadata": {
        "id": "EyGzsZ2J4F56"
      }
    },
    {
      "cell_type": "code",
      "source": [
        "# no duplicates\n",
        "Set = {0,2,3,4, \"alvi\", 0.7, 3, 4, \"true\"}\n",
        "Set"
      ],
      "metadata": {
        "colab": {
          "base_uri": "https://localhost:8080/"
        },
        "id": "W1c4lOLw3Z9l",
        "outputId": "b665e4e2-6f8c-4a3d-b274-6a991fb8239d"
      },
      "execution_count": null,
      "outputs": [
        {
          "output_type": "execute_result",
          "data": {
            "text/plain": [
              "{0, 0.7, 2, 3, 4, 'alvi', 'true'}"
            ]
          },
          "metadata": {},
          "execution_count": 70
        }
      ]
    },
    {
      "cell_type": "code",
      "source": [
        "Set.add(\"hamza\")\n",
        "Set"
      ],
      "metadata": {
        "colab": {
          "base_uri": "https://localhost:8080/"
        },
        "id": "sWQ7RJdD4N90",
        "outputId": "de2964f5-286b-4c11-882e-d791d9c5bf3e"
      },
      "execution_count": null,
      "outputs": [
        {
          "output_type": "execute_result",
          "data": {
            "text/plain": [
              "{0, 0.7, 2, 3, 4, 'alvi', 'hamza', 'true'}"
            ]
          },
          "metadata": {},
          "execution_count": 71
        }
      ]
    },
    {
      "cell_type": "code",
      "source": [
        "Set.remove(4)\n",
        "Set"
      ],
      "metadata": {
        "colab": {
          "base_uri": "https://localhost:8080/"
        },
        "id": "02xiyGM24Tbn",
        "outputId": "8b0ee80b-6feb-44cc-d00d-350e822ab34b"
      },
      "execution_count": null,
      "outputs": [
        {
          "output_type": "execute_result",
          "data": {
            "text/plain": [
              "{0, 0.7, 2, 3, 'alvi', 'hamza', 'true'}"
            ]
          },
          "metadata": {},
          "execution_count": 72
        }
      ]
    },
    {
      "cell_type": "code",
      "source": [
        "seta = {1,2,3,4}\n",
        "setb = {4,5,6,7}\n",
        "\n",
        "print(seta)\n",
        "print(setb)"
      ],
      "metadata": {
        "id": "nLdZ3NuM4ZWi",
        "colab": {
          "base_uri": "https://localhost:8080/"
        },
        "outputId": "765c6dc2-5620-408f-da29-33540c9a1462"
      },
      "execution_count": 1,
      "outputs": [
        {
          "output_type": "stream",
          "name": "stdout",
          "text": [
            "{1, 2, 3, 4}\n",
            "{4, 5, 6, 7}\n"
          ]
        }
      ]
    },
    {
      "cell_type": "markdown",
      "source": [
        "UNION\n"
      ],
      "metadata": {
        "id": "5owsUIFJ4bPU"
      }
    },
    {
      "cell_type": "code",
      "source": [
        "Union = seta | setb\n",
        "Union"
      ],
      "metadata": {
        "colab": {
          "base_uri": "https://localhost:8080/"
        },
        "id": "utKJoLPe3ml9",
        "outputId": "76a21cea-5dda-43b7-a9e2-98667b079e5a"
      },
      "execution_count": 2,
      "outputs": [
        {
          "output_type": "execute_result",
          "data": {
            "text/plain": [
              "{1, 2, 3, 4, 5, 6, 7}"
            ]
          },
          "metadata": {},
          "execution_count": 2
        }
      ]
    },
    {
      "cell_type": "markdown",
      "source": [
        "INTERCETION"
      ],
      "metadata": {
        "id": "BU5E883u4fyX"
      }
    },
    {
      "cell_type": "code",
      "source": [
        "setc = {9,10,11}\n",
        "setd = {9,8,7,6}"
      ],
      "metadata": {
        "id": "DlUWeXyo3qKq"
      },
      "execution_count": 10,
      "outputs": []
    },
    {
      "cell_type": "code",
      "source": [
        "Int = setc & setd\n",
        "Int"
      ],
      "metadata": {
        "colab": {
          "base_uri": "https://localhost:8080/"
        },
        "id": "hjxRG_bF4EvU",
        "outputId": "1634202b-681c-42a8-ffe2-8da2bb58808e"
      },
      "execution_count": 11,
      "outputs": [
        {
          "output_type": "execute_result",
          "data": {
            "text/plain": [
              "{9}"
            ]
          },
          "metadata": {},
          "execution_count": 11
        }
      ]
    },
    {
      "cell_type": "markdown",
      "source": [
        "DIFFERENCE"
      ],
      "metadata": {
        "id": "66Ym7oNT4klG"
      }
    },
    {
      "cell_type": "code",
      "source": [
        "diff = seta-setb\n",
        "diff"
      ],
      "metadata": {
        "colab": {
          "base_uri": "https://localhost:8080/"
        },
        "id": "y2boUguV4GkP",
        "outputId": "e1aab5a3-a494-4e32-f270-95606daa134c"
      },
      "execution_count": 7,
      "outputs": [
        {
          "output_type": "execute_result",
          "data": {
            "text/plain": [
              "{1, 2, 3}"
            ]
          },
          "metadata": {},
          "execution_count": 7
        }
      ]
    }
  ]
}