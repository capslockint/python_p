{
  "cells": [
    {
      "cell_type": "code",
      "execution_count": null,
      "metadata": {
        "id": "tcmIGrqu3MN4"
      },
      "outputs": [],
      "source": [
        "#HAPPY LEARNING"
      ]
    },
    {
      "cell_type": "code",
      "execution_count": null,
      "metadata": {
        "colab": {
          "base_uri": "https://localhost:8080/"
        },
        "id": "GBvT93XNwW8e",
        "outputId": "d81a2104-cb53-4e47-f91c-821f9cddfc38"
      },
      "outputs": [
        {
          "name": "stdout",
          "output_type": "stream",
          "text": [
            "Hello world\n"
          ]
        }
      ],
      "source": [
        "#Basic\n",
        "print(\"Hello world\")"
      ]
    },
    {
      "cell_type": "code",
      "execution_count": null,
      "metadata": {
        "colab": {
          "base_uri": "https://localhost:8080/"
        },
        "id": "YqfiEC2ztQvW",
        "outputId": "d1e33b18-8bb9-4a99-ff07-f064350110cd"
      },
      "outputs": [
        {
          "name": "stdout",
          "output_type": "stream",
          "text": [
            "3 + 7\n",
            "10\n"
          ]
        }
      ],
      "source": [
        "#Adding 2 veriables\n",
        "a=3\n",
        "b=7\n",
        "c= a+b\n",
        "print(a,\"+\",b)\n",
        "print(c)\n"
      ]
    },
    {
      "cell_type": "code",
      "execution_count": null,
      "metadata": {
        "id": "zCd-Kolatfez"
      },
      "outputs": [],
      "source": [
        "#string  text    \"Faryal\",\" Sayyad\", Abdur rafay\n",
        "#integer int numbers/ numerics 1, 33, 45, 6789\n",
        "#Float   decimal numers 0.1, 7.8, 4.6666\n",
        "#Boolean True / False"
      ]
    },
    {
      "cell_type": "code",
      "execution_count": null,
      "metadata": {
        "colab": {
          "base_uri": "https://localhost:8080/"
        },
        "id": "GSLeVZXVwVED",
        "outputId": "a6f57861-6195-49b4-8a16-0ee07190e18a"
      },
      "outputs": [
        {
          "name": "stdout",
          "output_type": "stream",
          "text": [
            "('hamza', 1, 0.8)\n"
          ]
        },
        {
          "data": {
            "text/plain": [
              "tuple"
            ]
          },
          "execution_count": 9,
          "metadata": {},
          "output_type": "execute_result"
        }
      ],
      "source": [
        "y= \"hamza\", 1, 0.8\n",
        "print(y)\n",
        "type(y)"
      ]
    },
    {
      "cell_type": "code",
      "execution_count": null,
      "metadata": {
        "colab": {
          "base_uri": "https://localhost:8080/"
        },
        "id": "zFxvFm07xcpE",
        "outputId": "eb8af0f9-245a-41b2-c5c8-d917c534e89a"
      },
      "outputs": [
        {
          "name": "stdout",
          "output_type": "stream",
          "text": [
            "my name is : hamza , i am : 25 years old\n"
          ]
        }
      ],
      "source": [
        "z = \"hamza\"\n",
        "s = 25\n",
        "print(\"my name is :\",z,\", i am :\",s,\"years old\")"
      ]
    },
    {
      "cell_type": "code",
      "execution_count": null,
      "metadata": {
        "colab": {
          "base_uri": "https://localhost:8080/"
        },
        "id": "AtetpvhLx532",
        "outputId": "6078ba8c-de75-455d-91b4-87e34ab082dc"
      },
      "outputs": [
        {
          "name": "stdout",
          "output_type": "stream",
          "text": [
            "my name is : {'hamza'}\n"
          ]
        }
      ],
      "source": [
        "#F String\n",
        "print(f\"my name is :\",{z})"
      ]
    },
    {
      "cell_type": "code",
      "execution_count": null,
      "metadata": {
        "colab": {
          "base_uri": "https://localhost:8080/"
        },
        "id": "Xj5SHJLTyTjj",
        "outputId": "01cf6677-fe46-4497-a0f6-7446e094f0d4"
      },
      "outputs": [
        {
          "name": "stdout",
          "output_type": "stream",
          "text": [
            "what is your name :hamza alvi\n",
            "HAMZA ALVI\n",
            "hamza alvi\n"
          ]
        }
      ],
      "source": [
        "#Taking Input\n",
        "My_Name = input(\"what is your name :\")\n",
        "print(My_Name.upper())\n",
        "print(My_Name.lower())"
      ]
    },
    {
      "cell_type": "code",
      "execution_count": null,
      "metadata": {
        "id": "3YxuYfg6ymvU"
      },
      "outputs": [],
      "source": [
        "#Arithematics\n",
        "#Comparison\n",
        "#Logical\n"
      ]
    },
    {
      "cell_type": "markdown",
      "metadata": {
        "id": "XJ434gzKzhxz"
      },
      "source": [
        "Arithematics"
      ]
    },
    {
      "cell_type": "code",
      "execution_count": null,
      "metadata": {
        "colab": {
          "base_uri": "https://localhost:8080/"
        },
        "id": "KTTJGW7_zbMR",
        "outputId": "1949aeb6-4c5b-47d8-b841-c5e77fcc3bff"
      },
      "outputs": [
        {
          "name": "stdout",
          "output_type": "stream",
          "text": [
            "Addition: 10\n",
            "Subtraction: -4\n",
            "Multiplication: 21\n",
            "Division: 0.42857142857142855\n",
            "Modulus: 3\n",
            "Exponential: 2187\n",
            "Floor Division: 0\n"
          ]
        }
      ],
      "source": [
        "#addition  +\n",
        "#subtraction -\n",
        "#multiplication *\n",
        "#division /\n",
        "#floor division //\n",
        "#exponential **\n",
        "# modulus %\n",
        "\n",
        "\n",
        "print(\"Addition:\", a+b)\n",
        "print(\"Subtraction:\", a-b)\n",
        "print(\"Multiplication:\", a*b)\n",
        "print(\"Division:\", a/b)\n",
        "print(\"Modulus:\", a%b)  #Remainder\n",
        "print(\"Exponential:\", a**b)\n",
        "print(\"Floor Division:\", a//b)  #neglect the numbers after point(.)\n",
        "\n"
      ]
    },
    {
      "cell_type": "code",
      "execution_count": null,
      "metadata": {
        "colab": {
          "base_uri": "https://localhost:8080/"
        },
        "id": "yVtqLvGyz193",
        "outputId": "12e9a2f3-ce48-49aa-bad7-b7bbe5e1fa7e"
      },
      "outputs": [
        {
          "name": "stdout",
          "output_type": "stream",
          "text": [
            "False\n",
            "True\n",
            "True\n",
            "False\n",
            "False\n",
            "True\n"
          ]
        }
      ],
      "source": [
        "#Comparison operators use to compare two values\n",
        "# Always returns boolean expression\n",
        "\n",
        "\n",
        "# < less then\n",
        "# > greater\n",
        "# >=\n",
        "# <=\n",
        "# ==\n",
        "# !=\n",
        "\n",
        "print(a == b)\n",
        "print( a < b)\n",
        "print( a <= b)\n",
        "print( a > b)\n",
        "print( a >= b)\n",
        "print( a != b)"
      ]
    },
    {
      "cell_type": "markdown",
      "metadata": {
        "id": "slOsBzd-0Pa_"
      },
      "source": [
        "Logical operators"
      ]
    },
    {
      "cell_type": "code",
      "execution_count": null,
      "metadata": {
        "colab": {
          "base_uri": "https://localhost:8080/"
        },
        "id": "TnhYYJzO0ECK",
        "outputId": "4f32747f-1d96-4030-ba4b-de16d6c126a1"
      },
      "outputs": [
        {
          "name": "stdout",
          "output_type": "stream",
          "text": [
            "function is working\n"
          ]
        }
      ],
      "source": [
        "q = 24\n",
        "s = 34\n",
        "if s > q or s == q:\n",
        "    print(\"function is working\")"
      ]
    },
    {
      "cell_type": "code",
      "execution_count": null,
      "metadata": {
        "id": "jDtm_nVU0Y8D"
      },
      "outputs": [],
      "source": [
        "if s > q and s == q:\n",
        "    print(\"function is working\")"
      ]
    },
    {
      "cell_type": "code",
      "execution_count": null,
      "metadata": {
        "colab": {
          "base_uri": "https://localhost:8080/"
        },
        "id": "3KWHIedo0bXt",
        "outputId": "fe6a9591-e8b3-450e-bb9a-70e87632f160"
      },
      "outputs": [
        {
          "name": "stdout",
          "output_type": "stream",
          "text": [
            "function is working\n"
          ]
        }
      ],
      "source": [
        "if s > q and s != q:\n",
        "    print(\"function is working\")"
      ]
    },
    {
      "cell_type": "markdown",
      "metadata": {
        "id": "eRun0szT0kfp"
      },
      "source": [
        "Data structures"
      ]
    },
    {
      "cell_type": "code",
      "execution_count": null,
      "metadata": {
        "id": "eTvCRELd0iAA"
      },
      "outputs": [],
      "source": [
        "#list\n",
        "#tuple\n",
        "#set\n",
        "#dictionary"
      ]
    },
    {
      "cell_type": "markdown",
      "metadata": {
        "id": "Mxedh13W0xw4"
      },
      "source": [
        "List\n"
      ]
    },
    {
      "cell_type": "code",
      "execution_count": null,
      "metadata": {
        "id": "_k_QyzXt0vkS"
      },
      "outputs": [],
      "source": [
        "# We can modify, append list\n",
        "# we can remove items from the list\n",
        "# we can sort and reverse list\n",
        "# we can count items in the list"
      ]
    },
    {
      "cell_type": "code",
      "execution_count": null,
      "metadata": {
        "colab": {
          "base_uri": "https://localhost:8080/"
        },
        "id": "lHvqv1-M0z7N",
        "outputId": "e76baf52-a1d1-453d-e2c5-b763098fdee6"
      },
      "outputs": [
        {
          "data": {
            "text/plain": [
              "['Apple', 'watermelon', 'Banana', 'cherry', 1, True, 1, 1]"
            ]
          },
          "execution_count": 43,
          "metadata": {},
          "output_type": "execute_result"
        }
      ],
      "source": [
        "fruits = [\"Apple\", \"watermelon\", \"Banana\", \"cherry\", 1, True, 1, 1]\n",
        "fruits      "
      ]
    },
    {
      "cell_type": "code",
      "execution_count": null,
      "metadata": {
        "id": "vSu4bu6Z0-cy"
      },
      "outputs": [],
      "source": [
        "#indexing  always start from 0\n",
        "\n",
        "fruits.remove(\"Apple\")"
      ]
    },
    {
      "cell_type": "code",
      "execution_count": null,
      "metadata": {
        "id": "NGZykNjs1C4G"
      },
      "outputs": [],
      "source": [
        "fruits.append(\"kiwi fruit\")"
      ]
    },
    {
      "cell_type": "code",
      "execution_count": null,
      "metadata": {
        "id": "97ST_dZs1H3n"
      },
      "outputs": [],
      "source": [
        "fruits.reverse()"
      ]
    },
    {
      "cell_type": "code",
      "execution_count": null,
      "metadata": {
        "colab": {
          "base_uri": "https://localhost:8080/"
        },
        "id": "JVPYggsK1bHW",
        "outputId": "ee950263-3a13-427d-c062-1e84cdee627b"
      },
      "outputs": [
        {
          "data": {
            "text/plain": [
              "1"
            ]
          },
          "execution_count": 47,
          "metadata": {},
          "output_type": "execute_result"
        }
      ],
      "source": [
        "fruits.count(\"Banana\")"
      ]
    },
    {
      "cell_type": "code",
      "execution_count": null,
      "metadata": {
        "colab": {
          "base_uri": "https://localhost:8080/"
        },
        "id": "tF3Pplgy1LMw",
        "outputId": "a8fa62da-e47a-4ead-c362-47caff78e60a"
      },
      "outputs": [
        {
          "name": "stdout",
          "output_type": "stream",
          "text": [
            "['kiwi fruit', 1, 1, True, 1, 'cherry', 'Banana', 'watermelon']\n"
          ]
        }
      ],
      "source": [
        "print(fruits)"
      ]
    },
    {
      "cell_type": "code",
      "execution_count": null,
      "metadata": {
        "colab": {
          "base_uri": "https://localhost:8080/"
        },
        "id": "8idm10g41Pz4",
        "outputId": "6094a6e9-873c-4d48-dc5b-a3fb3c588357"
      },
      "outputs": [
        {
          "name": "stdout",
          "output_type": "stream",
          "text": [
            "[]\n"
          ]
        }
      ],
      "source": [
        "fruits.clear()\n",
        "print(fruits)"
      ]
    },
    {
      "cell_type": "code",
      "execution_count": null,
      "metadata": {
        "colab": {
          "base_uri": "https://localhost:8080/"
        },
        "id": "96wFgZXU11Ew",
        "outputId": "a93e93e9-638b-4f2e-dd93-8575fff3906d"
      },
      "outputs": [
        {
          "data": {
            "text/plain": [
              "['Apple', 'watermelon', 'Banana', 'cherry', 'mango']"
            ]
          },
          "execution_count": 51,
          "metadata": {},
          "output_type": "execute_result"
        }
      ],
      "source": [
        "fruits1 = [\"Apple\", \"watermelon\", \"Banana\", \"cherry\", \"mango\"]\n",
        "fruits1"
      ]
    },
    {
      "cell_type": "code",
      "execution_count": null,
      "metadata": {
        "colab": {
          "base_uri": "https://localhost:8080/"
        },
        "id": "yD2tzU7S2Yd-",
        "outputId": "d7ed3a39-5853-45f0-c25f-77ef80d7f45c"
      },
      "outputs": [
        {
          "data": {
            "text/plain": [
              "['Apple', 'Banana', 'cherry', 'mango', 'watermelon']"
            ]
          },
          "execution_count": 53,
          "metadata": {},
          "output_type": "execute_result"
        }
      ],
      "source": [
        "fruits1.sort()\n",
        "fruits1"
      ]
    },
    {
      "cell_type": "markdown",
      "metadata": {
        "id": "wnKkP7u22xj-"
      },
      "source": [
        "Tuple"
      ]
    },
    {
      "cell_type": "code",
      "execution_count": null,
      "metadata": {
        "id": "QLTdY7xU2oL1"
      },
      "outputs": [],
      "source": [
        "# we can't modify tuple\n",
        "# we can't add and remove items"
      ]
    },
    {
      "cell_type": "code",
      "execution_count": null,
      "metadata": {
        "colab": {
          "base_uri": "https://localhost:8080/"
        },
        "id": "FeDqnwTZ22TC",
        "outputId": "6b731f00-f915-43a0-c90e-02bce4987128"
      },
      "outputs": [
        {
          "data": {
            "text/plain": [
              "('mango', 1, 2, 3)"
            ]
          },
          "execution_count": 55,
          "metadata": {},
          "output_type": "execute_result"
        }
      ],
      "source": [
        "my_tuple = (\"mango\", 1, 2, 3)\n",
        "my_tuple"
      ]
    },
    {
      "cell_type": "code",
      "execution_count": null,
      "metadata": {
        "colab": {
          "base_uri": "https://localhost:8080/"
        },
        "id": "CSwPo2vO3GCX",
        "outputId": "1c05b4e1-67a3-48e6-fba2-fde1d3945698"
      },
      "outputs": [
        {
          "data": {
            "text/plain": [
              "4"
            ]
          },
          "execution_count": 57,
          "metadata": {},
          "output_type": "execute_result"
        }
      ],
      "source": [
        "len(my_tuple)"
      ]
    },
    {
      "cell_type": "markdown",
      "metadata": {
        "id": "EyGzsZ2J4F56"
      },
      "source": [
        "Sets"
      ]
    },
    {
      "cell_type": "code",
      "execution_count": null,
      "metadata": {
        "colab": {
          "base_uri": "https://localhost:8080/"
        },
        "id": "W1c4lOLw3Z9l",
        "outputId": "b665e4e2-6f8c-4a3d-b274-6a991fb8239d"
      },
      "outputs": [
        {
          "data": {
            "text/plain": [
              "{0, 0.7, 2, 3, 4, 'alvi', 'true'}"
            ]
          },
          "execution_count": 70,
          "metadata": {},
          "output_type": "execute_result"
        }
      ],
      "source": [
        "# no duplicates\n",
        "Set = {0,2,3,4, \"alvi\", 0.7, 3, 4, \"true\"}\n",
        "Set"
      ]
    },
    {
      "cell_type": "code",
      "execution_count": null,
      "metadata": {
        "colab": {
          "base_uri": "https://localhost:8080/"
        },
        "id": "sWQ7RJdD4N90",
        "outputId": "de2964f5-286b-4c11-882e-d791d9c5bf3e"
      },
      "outputs": [
        {
          "data": {
            "text/plain": [
              "{0, 0.7, 2, 3, 4, 'alvi', 'hamza', 'true'}"
            ]
          },
          "execution_count": 71,
          "metadata": {},
          "output_type": "execute_result"
        }
      ],
      "source": [
        "Set.add(\"hamza\")\n",
        "Set"
      ]
    },
    {
      "cell_type": "code",
      "execution_count": null,
      "metadata": {
        "colab": {
          "base_uri": "https://localhost:8080/"
        },
        "id": "02xiyGM24Tbn",
        "outputId": "8b0ee80b-6feb-44cc-d00d-350e822ab34b"
      },
      "outputs": [
        {
          "data": {
            "text/plain": [
              "{0, 0.7, 2, 3, 'alvi', 'hamza', 'true'}"
            ]
          },
          "execution_count": 72,
          "metadata": {},
          "output_type": "execute_result"
        }
      ],
      "source": [
        "Set.remove(4)\n",
        "Set"
      ]
    },
    {
      "cell_type": "code",
      "execution_count": null,
      "metadata": {
        "colab": {
          "base_uri": "https://localhost:8080/"
        },
        "id": "nLdZ3NuM4ZWi",
        "outputId": "765c6dc2-5620-408f-da29-33540c9a1462"
      },
      "outputs": [
        {
          "name": "stdout",
          "output_type": "stream",
          "text": [
            "{1, 2, 3, 4}\n",
            "{4, 5, 6, 7}\n"
          ]
        }
      ],
      "source": [
        "seta = {1,2,3,4}\n",
        "setb = {4,5,6,7}\n",
        "\n",
        "print(seta)\n",
        "print(setb)"
      ]
    },
    {
      "cell_type": "markdown",
      "metadata": {
        "id": "5owsUIFJ4bPU"
      },
      "source": [
        "UNION\n"
      ]
    },
    {
      "cell_type": "code",
      "execution_count": null,
      "metadata": {
        "colab": {
          "base_uri": "https://localhost:8080/"
        },
        "id": "utKJoLPe3ml9",
        "outputId": "76a21cea-5dda-43b7-a9e2-98667b079e5a"
      },
      "outputs": [
        {
          "data": {
            "text/plain": [
              "{1, 2, 3, 4, 5, 6, 7}"
            ]
          },
          "execution_count": 2,
          "metadata": {},
          "output_type": "execute_result"
        }
      ],
      "source": [
        "Union = seta | setb\n",
        "Union"
      ]
    },
    {
      "cell_type": "markdown",
      "metadata": {
        "id": "BU5E883u4fyX"
      },
      "source": [
        "INTERCETION"
      ]
    },
    {
      "cell_type": "code",
      "execution_count": null,
      "metadata": {
        "id": "DlUWeXyo3qKq"
      },
      "outputs": [],
      "source": [
        "setc = {9,10,11}\n",
        "setd = {9,8,7,6}"
      ]
    },
    {
      "cell_type": "code",
      "execution_count": null,
      "metadata": {
        "colab": {
          "base_uri": "https://localhost:8080/"
        },
        "id": "hjxRG_bF4EvU",
        "outputId": "1634202b-681c-42a8-ffe2-8da2bb58808e"
      },
      "outputs": [
        {
          "data": {
            "text/plain": [
              "{9}"
            ]
          },
          "execution_count": 11,
          "metadata": {},
          "output_type": "execute_result"
        }
      ],
      "source": [
        "Int = setc & setd\n",
        "Int"
      ]
    },
    {
      "cell_type": "markdown",
      "metadata": {
        "id": "66Ym7oNT4klG"
      },
      "source": [
        "DIFFERENCE"
      ]
    },
    {
      "cell_type": "code",
      "execution_count": null,
      "metadata": {
        "colab": {
          "base_uri": "https://localhost:8080/"
        },
        "id": "y2boUguV4GkP",
        "outputId": "e1aab5a3-a494-4e32-f270-95606daa134c"
      },
      "outputs": [
        {
          "data": {
            "text/plain": [
              "{1, 2, 3}"
            ]
          },
          "execution_count": 7,
          "metadata": {},
          "output_type": "execute_result"
        }
      ],
      "source": [
        "diff = seta-setb\n",
        "diff"
      ]
    },
    {
      "cell_type": "code",
      "execution_count": 1,
      "metadata": {
        "id": "ffb-tw00KOZt"
      },
      "outputs": [],
      "source": [
        "#Acciing element in a List"
      ]
    },
    {
      "cell_type": "code",
      "execution_count": 21,
      "metadata": {
        "colab": {
          "base_uri": "https://localhost:8080/"
        },
        "id": "ztmyLCyGKVIT",
        "outputId": "a77e5297-7262-4df8-cdbd-5075bd1b6892"
      },
      "outputs": [
        {
          "name": "stdout",
          "output_type": "stream",
          "text": [
            "hamza\n"
          ]
        }
      ],
      "source": [
        "t=[\"hamza\",2,3,4,5] #whole numbers 4 elements\n",
        "print(t[0])"
      ]
    },
    {
      "cell_type": "code",
      "execution_count": 22,
      "metadata": {
        "colab": {
          "base_uri": "https://localhost:8080/"
        },
        "id": "MBx6f9grKYp4",
        "outputId": "cf145396-bca0-4776-918d-7b361edfa677"
      },
      "outputs": [
        {
          "name": "stdout",
          "output_type": "stream",
          "text": [
            "[11, 12, 5, 2]\n",
            "5\n"
          ]
        }
      ],
      "source": [
        "T = [[11, 12, 5, 2], [15, 6,10], [10, 8, 12, 5], [12,15,8,6]]\n",
        "\n",
        "#The data elements in two dimesnional arrays can be accessed using two indices\n",
        "\n",
        "print(T[0])\n",
        "\n",
        "print(T[2][3])"
      ]
    },
    {
      "cell_type": "code",
      "execution_count": 23,
      "metadata": {
        "colab": {
          "base_uri": "https://localhost:8080/"
        },
        "id": "Rga1nyC5KdFX",
        "outputId": "1547fab4-0b1d-46a4-8852-6c6ac95aa4ec"
      },
      "outputs": [
        {
          "name": "stdout",
          "output_type": "stream",
          "text": [
            "[[11, 12, 5, 2], [15, 6, 10], [0, 5, 11, 13, 7], [10, 8, 12, 5], [12, 15, 8, 6]]\n"
          ]
        }
      ],
      "source": [
        "# new data element is inserted at index position 2.\n",
        "\n",
        "#first parameter is index and 2nd is value\n",
        "\n",
        "T.insert(2, [0,5,11,13,7])\n",
        "print(T)"
      ]
    },
    {
      "cell_type": "code",
      "execution_count": 24,
      "metadata": {
        "colab": {
          "base_uri": "https://localhost:8080/"
        },
        "id": "fa_R_RHbK2mA",
        "outputId": "99c891b7-a293-4f68-8a38-80909a176978"
      },
      "outputs": [
        {
          "name": "stdout",
          "output_type": "stream",
          "text": [
            "[[11, 12, 5, 'r'], [15, 6, 10], 'String_Value', [10, 8, 12, 5], [12, 15, 8, 6]]\n"
          ]
        }
      ],
      "source": [
        "# Updating Values\n",
        "T[2] = \"String_Value\"\n",
        "T[0][3] = \"r\"\n",
        "\n",
        "print(T)"
      ]
    },
    {
      "cell_type": "code",
      "execution_count": 25,
      "metadata": {
        "colab": {
          "base_uri": "https://localhost:8080/"
        },
        "id": "r_AQwa6BLnLG",
        "outputId": "864268a0-cade-40cd-e1b8-9565e45f6a40"
      },
      "outputs": [
        {
          "name": "stdout",
          "output_type": "stream",
          "text": [
            "[[11, 12, 'r'], [15, 6, 10], 'String_Value', [10, 8, 12, 5], [12, 15, 8, 6]]\n"
          ]
        }
      ],
      "source": [
        "#Deleting the Values\n",
        "\n",
        "del T[0][2]\n",
        "print(T)\n"
      ]
    },
    {
      "cell_type": "code",
      "execution_count": 26,
      "metadata": {
        "id": "V6rJlvjHLqW8"
      },
      "outputs": [],
      "source": [
        "#Dictionary            Keys and values"
      ]
    },
    {
      "cell_type": "code",
      "execution_count": null,
      "metadata": {
        "colab": {
          "base_uri": "https://localhost:8080/"
        },
        "id": "3Dbc9ldBNMEL",
        "outputId": "487980b8-7562-4e46-901d-df23576d6689"
      },
      "outputs": [
        {
          "name": "stdout",
          "output_type": "stream",
          "text": [
            "33.9\n",
            "NULL\n",
            "75\n",
            "33.6\n",
            "<class 'dict'>\n"
          ]
        }
      ],
      "source": [
        "student = {'name':'Rabya', 'age': 33.9, '####' : 33.6 ,'phone': 75 , 'courses': ('maths', 'science')}\n",
        "print(student['age'])\n",
        "print(student.get('number','NULL'))\n",
        "\n",
        "print(student.get('phone'))\n",
        "print(student.get('####', 'NULL'))  \n",
        "print(type(student))"
      ]
    },
    {
      "cell_type": "code",
      "execution_count": 40,
      "metadata": {
        "colab": {
          "base_uri": "https://localhost:8080/"
        },
        "id": "vLUzzjbRNYCI",
        "outputId": "7805a387-0296-403c-bfcb-c05ba9dbb002"
      },
      "outputs": [
        {
          "name": "stdout",
          "output_type": "stream",
          "text": [
            "33\n",
            "None\n",
            "Not found\n",
            "{'name': 'Sayed', 'age': 33, 'courses': ['maths', 'science'], 'phone': 55555}\n",
            "{'name': 'Khan', 'age': 40, 'courses': ['english', 'urdu'], 'phone': 55555}\n",
            "{'name': 'Khan', 'age': 40, 'phone': 55555}\n",
            "{'name': 'Khan', 'phone': 55555}\n",
            "2\n",
            "dict_keys(['name', 'phone'])\n",
            "dict_values(['Khan', 55555])\n",
            "dict_items([('name', 'Khan'), ('phone', 55555)])\n",
            "name Khan\n",
            "phone 55555\n"
          ]
        }
      ],
      "source": [
        "# Example: We want to represent a student using a dictionary\n",
        "# Key can be an integer or a string\n",
        "\n",
        "student = {'name':'Rabya', 'age': 33, 'courses': ['maths', 'science']}\n",
        "print(student['age'])\n",
        "\n",
        "# print(student['phone']) error\n",
        "\n",
        "print(student.get('phone')) # return none\n",
        "\n",
        "print(student.get('phone', 'Not found')) #customized message\n",
        "\n",
        "# add an element in the dictionary\n",
        "\n",
        "student['phone'] = 55555 # new value\n",
        "\n",
        "student['name'] = 'Sayed' # update the value\n",
        "\n",
        "print(student)\n",
        "\n",
        "# another way to update a value is using the update method\n",
        "\n",
        "student.update({'name':'Khan', 'age': 40, 'courses': ['english', 'urdu']})\n",
        "print(student)\n",
        "\n",
        "# delete a key from the dictionary\n",
        "\n",
        "del student['courses']\n",
        "print(student)\n",
        "\n",
        "# another way to delete will be to pop the value and it will also return this value\n",
        "\n",
        "age = student.pop('age')\n",
        "print(student)\n",
        "\n",
        "\n",
        "#loop through the values of keys in dictionary\n",
        "\n",
        "print(len(student)) # total elements\n",
        "print(student.keys()) # only keys\n",
        "print(student.values()) # only values\n",
        "print(student.items()) # show both, key value pairs\n",
        "\n",
        "for key, value in student.items():\n",
        "    print(key, value)"
      ]
    },
    {
      "cell_type": "code",
      "execution_count": 48,
      "metadata": {
        "id": "3HtJ4_qeO1Yt"
      },
      "outputs": [],
      "source": [
        "#Contional statements and Loops"
      ]
    },
    {
      "cell_type": "markdown",
      "metadata": {
        "id": "1OQ20GrkRo1d"
      },
      "source": [
        "IF , else if , else"
      ]
    },
    {
      "cell_type": "code",
      "execution_count": 47,
      "metadata": {
        "colab": {
          "base_uri": "https://localhost:8080/"
        },
        "id": "G0aCdd5dQOUL",
        "outputId": "0ec019b1-521d-4607-b100-35a8816b13e1"
      },
      "outputs": [
        {
          "name": "stdout",
          "output_type": "stream",
          "text": [
            "Ennter a positive or negative number50\n",
            "50 is a positive number\n"
          ]
        }
      ],
      "source": [
        "num = int(input(\"Ennter a positive or negative number\"))\n",
        "\n",
        "#Check if number is positive or negative\n",
        "if num>=0:\n",
        "    print(num,\"is a positive number\")\n",
        "if num<0:\n",
        "    print(num,\"is a negative number\")"
      ]
    },
    {
      "cell_type": "code",
      "execution_count": 49,
      "metadata": {
        "id": "6_1o5P43QfPI"
      },
      "outputs": [],
      "source": [
        "#discout price calculater"
      ]
    },
    {
      "cell_type": "code",
      "execution_count": 66,
      "metadata": {
        "colab": {
          "base_uri": "https://localhost:8080/"
        },
        "id": "BABV2s3dRy91",
        "outputId": "7259a38f-a5e0-49a0-b79d-34f0f7701674"
      },
      "outputs": [
        {
          "name": "stdout",
          "output_type": "stream",
          "text": [
            "Enter the price of item :1000\n",
            "Your original item price is : 1000 , you get total discount of : 100.0 , Price after dicount : 900.0\n"
          ]
        }
      ],
      "source": [
        "item_price = int(input(\"Enter the price of item :\"))\n",
        "if item_price<500:\n",
        "  dicount = 0.03\n",
        "  total_dicount = item_price*dicount\n",
        "  price_AD = item_price-total_dicount\n",
        "  print(\"Your original item price is :\",item_price,\", You get total discount of :\",total_dicount,\", Price after dicount :\",price_AD)\n",
        "elif item_price<1000:\n",
        "  dicount = 0.05\n",
        "  total_dicount = item_price*dicount\n",
        "  price_AD = item_price-total_dicount\n",
        "  print(\"Your original item price is :\",item_price,\", You get total discount of :\",total_dicount,\", Price after dicount :\",price_AD)\n",
        "elif item_price>=1000:\n",
        "  dicount = 0.1\n",
        "  total_dicount = item_price*dicount\n",
        "  price_AD = item_price-total_dicount\n",
        "  print(\"Your original item price is :\",item_price,\", you get total discount of :\",total_dicount,\", Price after dicount :\",price_AD)"
      ]
    },
    {
      "cell_type": "code",
      "execution_count": null,
      "metadata": {
        "id": "N4OTVWN6S5Z4"
      },
      "outputs": [],
      "source": []
    }
  ],
  "metadata": {
    "colab": {
      "provenance": []
    },
    "kernelspec": {
      "display_name": "Python 3",
      "name": "python3"
    },
    "language_info": {
      "name": "python"
    }
  },
  "nbformat": 4,
  "nbformat_minor": 0
}
