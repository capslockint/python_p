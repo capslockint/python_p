{
  "nbformat": 4,
  "nbformat_minor": 0,
  "metadata": {
    "colab": {
      "provenance": []
    },
    "kernelspec": {
      "name": "python3",
      "display_name": "Python 3"
    },
    "language_info": {
      "name": "python"
    }
  },
  "cells": [
    {
      "cell_type": "code",
      "execution_count": 11,
      "metadata": {
        "colab": {
          "base_uri": "https://localhost:8080/"
        },
        "id": "XSphJd8GsnLD",
        "outputId": "b95d1fb0-bf15-4bae-cd7d-4c97b2211c93"
      },
      "outputs": [
        {
          "output_type": "stream",
          "name": "stdout",
          "text": [
            "student\n",
            "25 Hamza True\n"
          ]
        }
      ],
      "source": [
        "#T1\n",
        "age = 25\n",
        "name = \"Hamza\"\n",
        "student = True\n",
        "if student == True:\n",
        "    print(\"student\")\n",
        "else:\n",
        "    print(\"not student\")\n",
        "print(age,name,student)"
      ]
    },
    {
      "cell_type": "code",
      "source": [
        "#T2"
      ],
      "metadata": {
        "id": "bvsyESlHtIq0"
      },
      "execution_count": 12,
      "outputs": []
    },
    {
      "cell_type": "code",
      "source": [
        "width = 5.5\n",
        "height = 3.25\n",
        "area = width * height\n",
        "print(area)"
      ],
      "metadata": {
        "colab": {
          "base_uri": "https://localhost:8080/"
        },
        "id": "mypbMQYet6KU",
        "outputId": "e896d384-398a-4eaf-b3f3-984dddde2452"
      },
      "execution_count": 13,
      "outputs": [
        {
          "output_type": "stream",
          "name": "stdout",
          "text": [
            "17.875\n"
          ]
        }
      ]
    },
    {
      "cell_type": "code",
      "source": [
        "Celsius_temperature = 50\n",
        "fahrenheit_temperature = (Celsius_temperature * 9/5) + 32\n",
        "print(fahrenheit_temperature)"
      ],
      "metadata": {
        "colab": {
          "base_uri": "https://localhost:8080/"
        },
        "id": "5wSTIw6HuSlX",
        "outputId": "4b68e682-8a23-48a0-ab50-bc85a1390f52"
      },
      "execution_count": 14,
      "outputs": [
        {
          "output_type": "stream",
          "name": "stdout",
          "text": [
            "122.0\n"
          ]
        }
      ]
    },
    {
      "cell_type": "code",
      "source": [
        "radius = 5\n",
        "pi = 3.14\n",
        "area = radius * pi\n",
        "print(area)"
      ],
      "metadata": {
        "colab": {
          "base_uri": "https://localhost:8080/"
        },
        "id": "hyTPRcSAvPGA",
        "outputId": "8f091d68-ccea-4250-b9a3-772082e20e39"
      },
      "execution_count": 15,
      "outputs": [
        {
          "output_type": "stream",
          "name": "stdout",
          "text": [
            "15.700000000000001\n"
          ]
        }
      ]
    },
    {
      "cell_type": "code",
      "source": [
        "#Task 3"
      ],
      "metadata": {
        "id": "hPh0uqKsxCky"
      },
      "execution_count": 9,
      "outputs": []
    },
    {
      "cell_type": "code",
      "source": [
        "fruits = [\"apple\", \"banana\", \"orange\", \"grape\", \"kiwi\"]\n",
        "print(fruits)\n"
      ],
      "metadata": {
        "colab": {
          "base_uri": "https://localhost:8080/"
        },
        "id": "vNm4XKLXxTA4",
        "outputId": "4a7e8500-c3b8-4de8-9e43-137d756f282d"
      },
      "execution_count": 22,
      "outputs": [
        {
          "output_type": "stream",
          "name": "stdout",
          "text": [
            "['apple', 'banana', 'orange', 'grape', 'kiwi']\n"
          ]
        }
      ]
    },
    {
      "cell_type": "code",
      "source": [
        "months = (\"januery\", \"febureary\", \"march\")\n",
        "print(months)"
      ],
      "metadata": {
        "colab": {
          "base_uri": "https://localhost:8080/"
        },
        "id": "MLt4dzm5xoN1",
        "outputId": "9db5cab7-b233-41a8-d5c4-61b9e74e37ac"
      },
      "execution_count": 17,
      "outputs": [
        {
          "output_type": "stream",
          "name": "stdout",
          "text": [
            "('januery', 'febureary', 'march')\n"
          ]
        }
      ]
    },
    {
      "cell_type": "code",
      "source": [
        "#Task 4\n",
        "numbers = [12, 34, 45, 67, 89, 100, 23, 56]\n",
        "total_sum = 0\n",
        "for i in numbers:\n",
        "  total_sum = 1 + i\n",
        "print(total_sum)\n"
      ],
      "metadata": {
        "colab": {
          "base_uri": "https://localhost:8080/"
        },
        "id": "pgcEN4-1zYgb",
        "outputId": "5d66d958-7e0d-4707-da14-103abc446543"
      },
      "execution_count": 18,
      "outputs": [
        {
          "output_type": "stream",
          "name": "stdout",
          "text": [
            "57\n"
          ]
        }
      ]
    },
    {
      "cell_type": "code",
      "source": [
        "#average of numbers\n",
        "average = total_sum / len(numbers)\n",
        "print(average)"
      ],
      "metadata": {
        "colab": {
          "base_uri": "https://localhost:8080/"
        },
        "id": "fe0u_0P6bfSL",
        "outputId": "61559393-0c2d-471a-b322-e0aeda99b154"
      },
      "execution_count": 9,
      "outputs": [
        {
          "output_type": "stream",
          "name": "stdout",
          "text": [
            "7.125\n"
          ]
        }
      ]
    },
    {
      "cell_type": "code",
      "source": [
        "del fruits[0]\n",
        "del fruits[3]\n",
        "print(fruits)"
      ],
      "metadata": {
        "colab": {
          "base_uri": "https://localhost:8080/"
        },
        "id": "cHvtaPrpcJpA",
        "outputId": "6afac5a0-4de6-42fc-a6b8-e217885a0e23"
      },
      "execution_count": 23,
      "outputs": [
        {
          "output_type": "stream",
          "name": "stdout",
          "text": [
            "['banana', 'orange', 'grape']\n"
          ]
        }
      ]
    },
    {
      "cell_type": "code",
      "source": [
        "# task 5"
      ],
      "metadata": {
        "id": "73TSxeCeczAr"
      },
      "execution_count": 24,
      "outputs": []
    },
    {
      "cell_type": "code",
      "source": [
        "capitals = {\"USA\": \"Washington D.C.\", \"France\": \"Paris\", \"Japan\": \"Tokyo\", \"Germany\": \"Berlin\"}\n",
        "print(capitals)"
      ],
      "metadata": {
        "colab": {
          "base_uri": "https://localhost:8080/"
        },
        "id": "ctESPZ1BdVzk",
        "outputId": "6fdfbed0-2058-4790-dd2a-4abc4ac99e1e"
      },
      "execution_count": 1,
      "outputs": [
        {
          "output_type": "stream",
          "name": "stdout",
          "text": [
            "{'USA': 'Washington D.C.', 'France': 'Paris', 'Japan': 'Tokyo', 'Germany': 'Berlin'}\n"
          ]
        }
      ]
    },
    {
      "cell_type": "code",
      "source": [
        "capitals[\"Germany\"] = \"Berlin\""
      ],
      "metadata": {
        "id": "Lu1DEdlseLC_"
      },
      "execution_count": 2,
      "outputs": []
    },
    {
      "cell_type": "code",
      "source": [
        "print(capitals)"
      ],
      "metadata": {
        "colab": {
          "base_uri": "https://localhost:8080/"
        },
        "id": "MwIuUJ8HetGg",
        "outputId": "3711cea7-afc0-4068-d2b6-3a967762f173"
      },
      "execution_count": 3,
      "outputs": [
        {
          "output_type": "stream",
          "name": "stdout",
          "text": [
            "{'USA': 'Washington D.C.', 'France': 'Paris', 'Japan': 'Tokyo', 'Germany': 'Berlin'}\n"
          ]
        }
      ]
    },
    {
      "cell_type": "code",
      "source": [
        "if \"France\" in capitals:\n",
        "    print(\"France is in the capitals dictionary.\")\n",
        "else:\n",
        "    print(\"France is not in the capitals dictionary.\")"
      ],
      "metadata": {
        "colab": {
          "base_uri": "https://localhost:8080/"
        },
        "id": "rvg_npUvexgR",
        "outputId": "744fdf59-54fe-4118-9fb0-4fb58a7844dd"
      },
      "execution_count": 4,
      "outputs": [
        {
          "output_type": "stream",
          "name": "stdout",
          "text": [
            "France is in the capitals dictionary.\n"
          ]
        }
      ]
    },
    {
      "cell_type": "code",
      "source": [
        "#task 6"
      ],
      "metadata": {
        "id": "bJIZ6LT-fL5c"
      },
      "execution_count": 5,
      "outputs": []
    },
    {
      "cell_type": "code",
      "source": [
        "numbers = int(input(\"enter a number\"))\n",
        "if numbers % 2 == 0:\n",
        "    print(\"this is even number\")\n",
        "else:\n",
        "    print(\"this is odd number\")"
      ],
      "metadata": {
        "colab": {
          "base_uri": "https://localhost:8080/"
        },
        "id": "3ObuadQAfU_r",
        "outputId": "6d8d494f-271e-4a12-e45d-0265829200d8"
      },
      "execution_count": 6,
      "outputs": [
        {
          "output_type": "stream",
          "name": "stdout",
          "text": [
            "enter a number5\n",
            "this is odd number\n"
          ]
        }
      ]
    },
    {
      "cell_type": "code",
      "source": [
        "age = 25\n",
        "gpa = 2.32\n",
        "if age >=18 and gpa >= 3.0 and gpa <= 4.0:\n",
        "    print(\"eligible for admission\")\n",
        "else:\n",
        "    print(\"not eligible for admission\")"
      ],
      "metadata": {
        "colab": {
          "base_uri": "https://localhost:8080/"
        },
        "id": "XryOxE-pgV_U",
        "outputId": "bdbfedad-621f-4e02-ec3f-535335d8f7fd"
      },
      "execution_count": 9,
      "outputs": [
        {
          "output_type": "stream",
          "name": "stdout",
          "text": [
            "not eligible for admission\n"
          ]
        }
      ]
    },
    {
      "cell_type": "code",
      "source": [
        "#task 7"
      ],
      "metadata": {
        "id": "E5bcUYGShyxW"
      },
      "execution_count": 10,
      "outputs": []
    },
    {
      "cell_type": "code",
      "source": [
        "fruits_set = {\"apple\", \"banana\", \"orange\", \"grape\", \"kiwi\"}\n",
        "print(fruits_set)"
      ],
      "metadata": {
        "colab": {
          "base_uri": "https://localhost:8080/"
        },
        "id": "OvOkiw9jiDiI",
        "outputId": "826c8ae6-bc53-453f-e208-19ff5bd3b6be"
      },
      "execution_count": 11,
      "outputs": [
        {
          "output_type": "stream",
          "name": "stdout",
          "text": [
            "{'apple', 'banana', 'grape', 'kiwi', 'orange'}\n"
          ]
        }
      ]
    },
    {
      "cell_type": "code",
      "source": [
        "set1 = {1,2,3,4,5}\n",
        "set2 = {3,4,5,6,7}\n",
        "union = set1 | set2\n",
        "union"
      ],
      "metadata": {
        "colab": {
          "base_uri": "https://localhost:8080/"
        },
        "id": "G67Lm_51iP0-",
        "outputId": "62eb2948-ce51-44c5-93eb-d4ed847dde22"
      },
      "execution_count": 12,
      "outputs": [
        {
          "output_type": "execute_result",
          "data": {
            "text/plain": [
              "{1, 2, 3, 4, 5, 6, 7}"
            ]
          },
          "metadata": {},
          "execution_count": 12
        }
      ]
    },
    {
      "cell_type": "code",
      "source": [
        "Int = set1 & set2\n",
        "Int"
      ],
      "metadata": {
        "colab": {
          "base_uri": "https://localhost:8080/"
        },
        "id": "Q0GMFiFAjBqH",
        "outputId": "743ebb2e-d275-40d1-9a10-e3a1cd6cc05d"
      },
      "execution_count": 13,
      "outputs": [
        {
          "output_type": "execute_result",
          "data": {
            "text/plain": [
              "{3, 4, 5}"
            ]
          },
          "metadata": {},
          "execution_count": 13
        }
      ]
    },
    {
      "cell_type": "code",
      "source": [
        "defference = set1 - set2\n",
        "defference"
      ],
      "metadata": {
        "colab": {
          "base_uri": "https://localhost:8080/"
        },
        "id": "Zn-XvB4LjOKJ",
        "outputId": "5c0af8e7-3873-4694-dd6e-9b708904f5d3"
      },
      "execution_count": 14,
      "outputs": [
        {
          "output_type": "execute_result",
          "data": {
            "text/plain": [
              "{1, 2}"
            ]
          },
          "metadata": {},
          "execution_count": 14
        }
      ]
    },
    {
      "cell_type": "code",
      "source": [
        "if set1.issubset(set2):\n",
        "    print(\"yes set1 is subset of set2\")\n",
        "else:\n",
        "    print(\"no set1 is not subset of set2\")"
      ],
      "metadata": {
        "colab": {
          "base_uri": "https://localhost:8080/"
        },
        "id": "zWQ6JW4wjWyA",
        "outputId": "19ba7ff2-6eb3-4cba-d8e8-857bd9cc8367"
      },
      "execution_count": 15,
      "outputs": [
        {
          "output_type": "stream",
          "name": "stdout",
          "text": [
            "no set1 is not subset of set2\n"
          ]
        }
      ]
    },
    {
      "cell_type": "code",
      "source": [
        "#Task 7"
      ],
      "metadata": {
        "id": "m_yiPhBAjpYc"
      },
      "execution_count": 16,
      "outputs": []
    },
    {
      "cell_type": "code",
      "source": [
        "s = \"python programing is fun and powerfull\"\n",
        "len(s)"
      ],
      "metadata": {
        "colab": {
          "base_uri": "https://localhost:8080/"
        },
        "id": "DgcjExtnjtyY",
        "outputId": "8be20c11-786a-4c1b-b7e4-01cb33c172d5"
      },
      "execution_count": 17,
      "outputs": [
        {
          "output_type": "execute_result",
          "data": {
            "text/plain": [
              "38"
            ]
          },
          "metadata": {},
          "execution_count": 17
        }
      ]
    },
    {
      "cell_type": "code",
      "source": [
        "z = s.upper()\n",
        "z"
      ],
      "metadata": {
        "colab": {
          "base_uri": "https://localhost:8080/",
          "height": 35
        },
        "id": "JqJfHiuSmsRv",
        "outputId": "f5bab665-b8cd-4021-a223-3afa0506e7d4"
      },
      "execution_count": 20,
      "outputs": [
        {
          "output_type": "execute_result",
          "data": {
            "text/plain": [
              "'PYTHON PROGRAMING IS FUN AND POWERFULL'"
            ],
            "application/vnd.google.colaboratory.intrinsic+json": {
              "type": "string"
            }
          },
          "metadata": {},
          "execution_count": 20
        }
      ]
    },
    {
      "cell_type": "code",
      "source": [
        "x = s.replace(\"fun\", \"execiting\")\n",
        "x"
      ],
      "metadata": {
        "colab": {
          "base_uri": "https://localhost:8080/",
          "height": 35
        },
        "id": "VAAWEUwnmvja",
        "outputId": "dd48df8d-af2a-4d47-8ffc-cd3e4ca09873"
      },
      "execution_count": 23,
      "outputs": [
        {
          "output_type": "execute_result",
          "data": {
            "text/plain": [
              "'python programing is execiting and powerfull'"
            ],
            "application/vnd.google.colaboratory.intrinsic+json": {
              "type": "string"
            }
          },
          "metadata": {},
          "execution_count": 23
        }
      ]
    },
    {
      "cell_type": "code",
      "source": [
        "if \"python\" in s:\n",
        "  print(\"word python is in s\")\n",
        "else:\n",
        "  print(\"word python is not in s\")"
      ],
      "metadata": {
        "colab": {
          "base_uri": "https://localhost:8080/"
        },
        "id": "i8m5-b8nnLE6",
        "outputId": "94752f40-610f-45f1-a4c8-30145ae1b7f3"
      },
      "execution_count": 24,
      "outputs": [
        {
          "output_type": "stream",
          "name": "stdout",
          "text": [
            "word python is in s\n"
          ]
        }
      ]
    },
    {
      "cell_type": "code",
      "source": [
        "L = s.split()\n",
        "L"
      ],
      "metadata": {
        "colab": {
          "base_uri": "https://localhost:8080/"
        },
        "id": "Bs9bZa-ioIs-",
        "outputId": "e08db551-1872-4466-fe61-9597b2109fc8"
      },
      "execution_count": 25,
      "outputs": [
        {
          "output_type": "execute_result",
          "data": {
            "text/plain": [
              "['python', 'programing', 'is', 'fun', 'and', 'powerfull']"
            ]
          },
          "metadata": {},
          "execution_count": 25
        }
      ]
    },
    {
      "cell_type": "code",
      "source": [
        "#happy programing"
      ],
      "metadata": {
        "id": "CRKxUv93oVCh"
      },
      "execution_count": null,
      "outputs": []
    }
  ]
}