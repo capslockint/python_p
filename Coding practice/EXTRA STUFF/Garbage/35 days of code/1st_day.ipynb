{
  "nbformat": 4,
  "nbformat_minor": 0,
  "metadata": {
    "colab": {
      "provenance": []
    },
    "kernelspec": {
      "name": "python3",
      "display_name": "Python 3"
    },
    "language_info": {
      "name": "python"
    }
  },
  "cells": [
    {
      "cell_type": "code",
      "execution_count": 2,
      "metadata": {
        "id": "eyU2pX-j5_YT"
      },
      "outputs": [],
      "source": [
        "#data types\n",
        "a = 1\n",
        "b = 2.1\n",
        "c = 'Hello'\n",
        "d = True"
      ]
    },
    {
      "cell_type": "code",
      "source": [
        "#user input\n",
        "x = input('Enter a number: ')\n",
        "print(x)"
      ],
      "metadata": {
        "colab": {
          "base_uri": "https://localhost:8080/"
        },
        "id": "TMHS5eIa6yVQ",
        "outputId": "94678a49-a54a-453e-8e11-42824a42c620"
      },
      "execution_count": 3,
      "outputs": [
        {
          "output_type": "stream",
          "name": "stdout",
          "text": [
            "Enter a number: 2\n",
            "2\n"
          ]
        }
      ]
    },
    {
      "cell_type": "code",
      "source": [
        "#user specific data type input\n",
        "y = float(input('Enter a number: '))\n",
        "print(y)"
      ],
      "metadata": {
        "colab": {
          "base_uri": "https://localhost:8080/"
        },
        "id": "yDicVt_y7Mso",
        "outputId": "8d7dff34-988a-4f08-d16f-3a3bd5194f37"
      },
      "execution_count": 5,
      "outputs": [
        {
          "output_type": "stream",
          "name": "stdout",
          "text": [
            "Enter a number: 3\n",
            "3.0\n"
          ]
        }
      ]
    },
    {
      "cell_type": "code",
      "source": [
        "#using conditioal operators\n",
        "g = int(input('Enter a first number: '))\n",
        "t = int(input(\"Enter a second number: \"))\n",
        "if g > t:\n",
        "    print('1st number is greater than 2nd')\n",
        "elif g == t:\n",
        "    print('1st number is equal to 2nd number')\n",
        "else:\n",
        "    print('2nd number is greater than 1st')"
      ],
      "metadata": {
        "colab": {
          "base_uri": "https://localhost:8080/"
        },
        "id": "bOzKVNhG7gwR",
        "outputId": "fbd0bce1-8d3e-4656-d7d3-ee705859bbcb"
      },
      "execution_count": 9,
      "outputs": [
        {
          "output_type": "stream",
          "name": "stdout",
          "text": [
            "Enter a first number: 3\n",
            "Enter a second number: 3\n",
            "1st number is equal to 2nd number\n"
          ]
        }
      ]
    },
    {
      "cell_type": "code",
      "source": [],
      "metadata": {
        "id": "Rbyy0FJ-8NGo"
      },
      "execution_count": null,
      "outputs": []
    }
  ]
}