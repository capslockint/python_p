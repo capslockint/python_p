{
  "nbformat": 4,
  "nbformat_minor": 0,
  "metadata": {
    "colab": {
      "provenance": []
    },
    "kernelspec": {
      "name": "python3",
      "display_name": "Python 3"
    },
    "language_info": {
      "name": "python"
    }
  },
  "cells": [
    {
      "cell_type": "markdown",
      "source": [
        "#Happy journey"
      ],
      "metadata": {
        "id": "egu62TYHvwSx"
      }
    },
    {
      "cell_type": "markdown",
      "source": [
        "#Print statement\n"
      ],
      "metadata": {
        "id": "YeC3Mf0VtvHB"
      }
    },
    {
      "cell_type": "code",
      "execution_count": 1,
      "metadata": {
        "colab": {
          "base_uri": "https://localhost:8080/"
        },
        "id": "VdzlSx50r2NW",
        "outputId": "644b7bb8-0c88-4efb-ce22-a15070f73d25"
      },
      "outputs": [
        {
          "output_type": "stream",
          "name": "stdout",
          "text": [
            "Hello World\n"
          ]
        }
      ],
      "source": [
        "print(\"Hello World\")"
      ]
    },
    {
      "cell_type": "markdown",
      "source": [
        "#Variables"
      ],
      "metadata": {
        "id": "zDIaR8SIv4bm"
      }
    },
    {
      "cell_type": "code",
      "source": [
        "#adding 2 variables\n",
        "a=10\n",
        "b=15\n",
        "c=a+b\n",
        "print(a,\"+\",b,\"=\",c)"
      ],
      "metadata": {
        "colab": {
          "base_uri": "https://localhost:8080/"
        },
        "id": "A85Kte7Itqe_",
        "outputId": "297746e5-c6dd-4f77-c848-405479186943"
      },
      "execution_count": 4,
      "outputs": [
        {
          "output_type": "stream",
          "name": "stdout",
          "text": [
            "10 + 15 = 25\n"
          ]
        }
      ]
    },
    {
      "cell_type": "code",
      "source": [
        "#variables types             String, Integer, Float, Boolean"
      ],
      "metadata": {
        "id": "wSEw-orDwJON"
      },
      "execution_count": 6,
      "outputs": []
    },
    {
      "cell_type": "code",
      "source": [
        "y= \"Hamza Alvi\"\n",
        "z = 25\n",
        "print(\"My Name IS ,\",y,\"I Am ,\",z,\"Years Old\")"
      ],
      "metadata": {
        "colab": {
          "base_uri": "https://localhost:8080/"
        },
        "id": "EYRhpRh_w9nd",
        "outputId": "7f11ea39-8ec6-41c0-bc77-ac62ca10d2ee"
      },
      "execution_count": 8,
      "outputs": [
        {
          "output_type": "stream",
          "name": "stdout",
          "text": [
            "My Name IS , Hamza Alvi I Am , 25 Years Old\n"
          ]
        }
      ]
    },
    {
      "cell_type": "code",
      "source": [
        "#using different data types in one vaiable\n",
        "v = \"Hamza\", 1 ,2.3\n",
        "print(v)"
      ],
      "metadata": {
        "colab": {
          "base_uri": "https://localhost:8080/"
        },
        "id": "jvXXfHOmxgKw",
        "outputId": "db38aefe-3171-4d09-b0d0-02e53c7f94d8"
      },
      "execution_count": 12,
      "outputs": [
        {
          "output_type": "stream",
          "name": "stdout",
          "text": [
            "('Hamza', 1, 2.3)\n"
          ]
        }
      ]
    },
    {
      "cell_type": "code",
      "source": [
        "type(v)"
      ],
      "metadata": {
        "colab": {
          "base_uri": "https://localhost:8080/"
        },
        "id": "PqdYc-8Gxw_0",
        "outputId": "654caa68-9122-4479-dacd-10e93fe7d968"
      },
      "execution_count": 13,
      "outputs": [
        {
          "output_type": "execute_result",
          "data": {
            "text/plain": [
              "tuple"
            ]
          },
          "metadata": {},
          "execution_count": 13
        }
      ]
    },
    {
      "cell_type": "code",
      "source": [
        "#FString"
      ],
      "metadata": {
        "id": "7v8vkoxbxz2A"
      },
      "execution_count": 14,
      "outputs": []
    },
    {
      "cell_type": "code",
      "source": [
        "print(f\"my name is :\",{y})"
      ],
      "metadata": {
        "colab": {
          "base_uri": "https://localhost:8080/"
        },
        "id": "tY8ixU2QyI0n",
        "outputId": "07f454de-6156-4a85-e604-57732b895fd4"
      },
      "execution_count": 17,
      "outputs": [
        {
          "output_type": "stream",
          "name": "stdout",
          "text": [
            "my name is : {'Hamza Alvi'}\n"
          ]
        }
      ]
    },
    {
      "cell_type": "markdown",
      "source": [
        "#Taking Input\n"
      ],
      "metadata": {
        "id": "ezO0r433yj3O"
      }
    },
    {
      "cell_type": "code",
      "source": [
        "My_Name = input(\"What Is Your Name\")\n",
        "print(My_Name)"
      ],
      "metadata": {
        "colab": {
          "base_uri": "https://localhost:8080/"
        },
        "id": "v2ocsGvPyaZM",
        "outputId": "dd796456-e6b9-4da5-9c36-aef996a37e8b"
      },
      "execution_count": 19,
      "outputs": [
        {
          "output_type": "stream",
          "name": "stdout",
          "text": [
            "What Is Your NameHamza\n",
            "Hamza\n"
          ]
        }
      ]
    },
    {
      "cell_type": "code",
      "source": [
        "print(My_Name.upper())"
      ],
      "metadata": {
        "colab": {
          "base_uri": "https://localhost:8080/"
        },
        "id": "IgffuSnmzAet",
        "outputId": "d113e2d6-b01c-4bfa-92ec-af4012476ac8"
      },
      "execution_count": 20,
      "outputs": [
        {
          "output_type": "stream",
          "name": "stdout",
          "text": [
            "HAMZA\n"
          ]
        }
      ]
    },
    {
      "cell_type": "code",
      "source": [
        "print(My_Name.lower())"
      ],
      "metadata": {
        "colab": {
          "base_uri": "https://localhost:8080/"
        },
        "id": "DEnfCQLQzYEt",
        "outputId": "ac585ab1-918e-4a4d-cf97-12cd839bd494"
      },
      "execution_count": 21,
      "outputs": [
        {
          "output_type": "stream",
          "name": "stdout",
          "text": [
            "hamza\n"
          ]
        }
      ]
    },
    {
      "cell_type": "markdown",
      "source": [
        "#Operators"
      ],
      "metadata": {
        "id": "HnXoPb6S3fs9"
      }
    },
    {
      "cell_type": "code",
      "source": [
        "#Arithemetics\n",
        "print(\"Addition:\", a+b)\n",
        "print(\"Subtraction:\", a-b)\n",
        "print(\"Multiplication:\", a*b)\n",
        "print(\"Division:\", a/b)\n",
        "print(\"Modulus:\", a%b)  #Remainder\n",
        "print(\"Exponential:\", a**b)\n",
        "print(\"Floor Division:\", a//b)  #neglect the numbers after point(.)"
      ],
      "metadata": {
        "colab": {
          "base_uri": "https://localhost:8080/"
        },
        "id": "1cY5f9CJzcXX",
        "outputId": "f777cb03-61cb-4927-bd64-eccbfb304587"
      },
      "execution_count": 22,
      "outputs": [
        {
          "output_type": "stream",
          "name": "stdout",
          "text": [
            "Addition: 25\n",
            "Subtraction: -5\n",
            "Multiplication: 150\n",
            "Division: 0.6666666666666666\n",
            "Modulus: 10\n",
            "Exponential: 1000000000000000\n",
            "Floor Division: 0\n"
          ]
        }
      ]
    },
    {
      "cell_type": "code",
      "source": [
        "#Comparison operators"
      ],
      "metadata": {
        "id": "JrwM0DRk37V2"
      },
      "execution_count": 23,
      "outputs": []
    },
    {
      "cell_type": "code",
      "source": [
        "print(a == b)\n",
        "print( a < b)\n",
        "print( a <= b)\n",
        "print( a > b)\n",
        "print( a >= b)\n",
        "print( a != b)"
      ],
      "metadata": {
        "colab": {
          "base_uri": "https://localhost:8080/"
        },
        "id": "ckNtOgy34bbm",
        "outputId": "670a4154-3078-482d-aead-fe0713bb15f8"
      },
      "execution_count": 24,
      "outputs": [
        {
          "output_type": "stream",
          "name": "stdout",
          "text": [
            "False\n",
            "True\n",
            "True\n",
            "False\n",
            "False\n",
            "True\n"
          ]
        }
      ]
    },
    {
      "cell_type": "code",
      "source": [
        "o = 9\n",
        "i = 8\n",
        "Num = int(input(\"Enter a number :\"))\n",
        "if o > Num and o > i :\n",
        "  print(\"i is the beggest number\")\n",
        "elif o > i and o < Num:\n",
        "  print(\"Num is the biggest number\")\n"
      ],
      "metadata": {
        "colab": {
          "base_uri": "https://localhost:8080/"
        },
        "id": "vEfR_hCb4dxS",
        "outputId": "7028b5c0-04f6-4a3a-84d7-1c021471501e"
      },
      "execution_count": 32,
      "outputs": [
        {
          "output_type": "stream",
          "name": "stdout",
          "text": [
            "Enter a number :10\n",
            "Num is the biggest number\n"
          ]
        }
      ]
    },
    {
      "cell_type": "code",
      "source": [
        "if o > i and o!=i:\n",
        "  print(\"statement is working\")"
      ],
      "metadata": {
        "colab": {
          "base_uri": "https://localhost:8080/"
        },
        "id": "qwBREJqa46xC",
        "outputId": "020fb384-cb53-4570-f34b-c8e307db4a8f"
      },
      "execution_count": 34,
      "outputs": [
        {
          "output_type": "stream",
          "name": "stdout",
          "text": [
            "statement is working\n"
          ]
        }
      ]
    },
    {
      "cell_type": "markdown",
      "source": [
        "#Data Structures\n",
        "#list ,tuple ,set ,dictionary"
      ],
      "metadata": {
        "id": "EcU4sCYf6_lX"
      }
    },
    {
      "cell_type": "code",
      "source": [
        "#LIST\n",
        "# We can modify, append list\n",
        "# we can remove items from the list\n",
        "# we can sort and reverse list\n",
        "# we can count items in the list"
      ],
      "metadata": {
        "id": "T5NNn3gy6zVt"
      },
      "execution_count": 35,
      "outputs": []
    },
    {
      "cell_type": "code",
      "source": [
        "fruits = [\"apple\",\"orange\",\"banana\",1,1.5,True]\n",
        "print(fruits)"
      ],
      "metadata": {
        "colab": {
          "base_uri": "https://localhost:8080/"
        },
        "id": "Kwuf2dTU7lPc",
        "outputId": "571bddad-695f-460a-f20b-5d063e6c889a"
      },
      "execution_count": 40,
      "outputs": [
        {
          "output_type": "stream",
          "name": "stdout",
          "text": [
            "['apple', 'orange', 'banana', 1, 1.5, True]\n"
          ]
        }
      ]
    },
    {
      "cell_type": "code",
      "source": [
        "#indexing the itmes in list\n",
        "fruits[1]"
      ],
      "metadata": {
        "colab": {
          "base_uri": "https://localhost:8080/",
          "height": 35
        },
        "id": "L14SM-uJ7xCs",
        "outputId": "c7202c6c-03a4-49d5-b2a5-c14a078a0e85"
      },
      "execution_count": 41,
      "outputs": [
        {
          "output_type": "execute_result",
          "data": {
            "text/plain": [
              "'orange'"
            ],
            "application/vnd.google.colaboratory.intrinsic+json": {
              "type": "string"
            }
          },
          "metadata": {},
          "execution_count": 41
        }
      ]
    },
    {
      "cell_type": "code",
      "source": [
        "#Removing items in list\n",
        "fruits.remove(\"apple\")\n",
        "print(fruits)"
      ],
      "metadata": {
        "colab": {
          "base_uri": "https://localhost:8080/"
        },
        "id": "cXU2rx1z8sPu",
        "outputId": "43813d40-6b9b-4f94-befa-913c9630bb39"
      },
      "execution_count": 42,
      "outputs": [
        {
          "output_type": "stream",
          "name": "stdout",
          "text": [
            "['orange', 'banana', 1, 1.5, True]\n"
          ]
        }
      ]
    },
    {
      "cell_type": "code",
      "source": [
        "#Adding in list\n",
        "fruits.append(\"graps\")\n",
        "print(fruits)"
      ],
      "metadata": {
        "colab": {
          "base_uri": "https://localhost:8080/"
        },
        "id": "JiYva5G987DY",
        "outputId": "95355f08-b979-4fd1-a9d3-69e0cfcede32"
      },
      "execution_count": 43,
      "outputs": [
        {
          "output_type": "stream",
          "name": "stdout",
          "text": [
            "['orange', 'banana', 1, 1.5, True, 'graps']\n"
          ]
        }
      ]
    },
    {
      "cell_type": "code",
      "source": [
        "#reverse the list\n",
        "fruits.reverse()\n",
        "print(fruits)"
      ],
      "metadata": {
        "colab": {
          "base_uri": "https://localhost:8080/"
        },
        "id": "8XZidZD29Qz5",
        "outputId": "419428ed-b0a4-4ac4-c0b1-c5fa15a4faee"
      },
      "execution_count": 46,
      "outputs": [
        {
          "output_type": "stream",
          "name": "stdout",
          "text": [
            "['graps', True, 1.5, 1, 'banana', 'orange']\n"
          ]
        }
      ]
    },
    {
      "cell_type": "code",
      "source": [
        "#Count items in list\n",
        "fruits.count(\"banana\")"
      ],
      "metadata": {
        "colab": {
          "base_uri": "https://localhost:8080/"
        },
        "id": "pGI3rFPM9ZtK",
        "outputId": "483ff78f-d066-4188-d07f-8af3cad7d5e6"
      },
      "execution_count": 47,
      "outputs": [
        {
          "output_type": "execute_result",
          "data": {
            "text/plain": [
              "1"
            ]
          },
          "metadata": {},
          "execution_count": 47
        }
      ]
    },
    {
      "cell_type": "code",
      "source": [
        "#clear the list\n",
        "fruits.clear()\n",
        "print(fruits)"
      ],
      "metadata": {
        "colab": {
          "base_uri": "https://localhost:8080/"
        },
        "id": "tIdRaDdG9o7L",
        "outputId": "df498ece-95af-4ce3-c20c-958e4e550dda"
      },
      "execution_count": 50,
      "outputs": [
        {
          "output_type": "stream",
          "name": "stdout",
          "text": [
            "[]\n"
          ]
        }
      ]
    },
    {
      "cell_type": "code",
      "source": [
        "#Sort the list\n",
        "fruits1 = [\"apple\",\"orange\",\"banana\"]\n",
        "fruits1.sort()\n",
        "print(fruits1)"
      ],
      "metadata": {
        "colab": {
          "base_uri": "https://localhost:8080/"
        },
        "id": "aOnsef1F90ah",
        "outputId": "95ef760b-576a-421b-edca-a2cb0c6951a9"
      },
      "execution_count": 51,
      "outputs": [
        {
          "output_type": "stream",
          "name": "stdout",
          "text": [
            "['apple', 'banana', 'orange']\n"
          ]
        }
      ]
    },
    {
      "cell_type": "markdown",
      "source": [
        "#Tuple"
      ],
      "metadata": {
        "id": "oAr_RwJg-TDo"
      }
    }
  ]
}