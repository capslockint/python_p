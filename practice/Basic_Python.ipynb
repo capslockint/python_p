{
  "nbformat": 4,
  "nbformat_minor": 0,
  "metadata": {
    "colab": {
      "provenance": []
    },
    "kernelspec": {
      "name": "python3",
      "display_name": "Python 3"
    },
    "language_info": {
      "name": "python"
    }
  },
  "cells": [
    {
      "cell_type": "code",
      "execution_count": null,
      "metadata": {
        "colab": {
          "base_uri": "https://localhost:8080/"
        },
        "id": "Llx8KYFsEY0m",
        "outputId": "63d71caf-7d84-4aa6-fd54-f8fb19910dd6"
      },
      "outputs": [
        {
          "output_type": "stream",
          "name": "stdout",
          "text": [
            "HELLO WORLD\n"
          ]
        }
      ],
      "source": [
        "print(\"HELLO WORLD\")"
      ]
    },
    {
      "cell_type": "code",
      "source": [
        "#2\n",
        "q = int(input(\"Enter a operator: 1: +, 2: -, 3: *, 4: / \"))\n",
        "x = int(input(\"Enter a 1 number: \"))\n",
        "y = int(input(\"Enter a 2 number: \"))\n",
        "\n",
        "match q:\n",
        "    case 1:\n",
        "        print(x + y)\n",
        "    case 2:\n",
        "        print(x - y)\n",
        "    case 3:\n",
        "        print(x * y)\n",
        "    case 4:\n",
        "        print(x / y)\n",
        "    case _:\n",
        "        print(\"Invalid input\")"
      ],
      "metadata": {
        "colab": {
          "base_uri": "https://localhost:8080/"
        },
        "id": "IQUwiesQE4LT",
        "outputId": "8123603d-8c06-4b7f-f422-6742c1a63e31"
      },
      "execution_count": null,
      "outputs": [
        {
          "output_type": "stream",
          "name": "stdout",
          "text": [
            "Enter a operator: 1: +, 2: -, 3: *, 4: / 1\n",
            "Enter a 1 number: 1\n",
            "Enter a 2 number: 3\n",
            "4\n"
          ]
        }
      ]
    },
    {
      "cell_type": "code",
      "source": [
        "#3\n",
        "t = [1,2,3,4,5]\n",
        "large = t[0]\n",
        "small = t[0]\n",
        "for x in t:\n",
        "    if x > large:\n",
        "        large = x\n",
        "    if x < small:\n",
        "        small = x\n",
        "print(\"largest number : \",large)\n",
        "print(\"smallest number :\", small)\n",
        "\n",
        "print(t)\n",
        "\n",
        "sum_of_numbers = 0\n",
        "for x in t:\n",
        "    sum_of_numbers = sum_of_numbers + x\n",
        "print(\"sum of numbers: \",sum_of_numbers)\n",
        "\n",
        "reversed_list = []\n",
        "reversed_list = t[::-1]\n",
        "print(\"reversed list : \",reversed_list)\n"
      ],
      "metadata": {
        "colab": {
          "base_uri": "https://localhost:8080/"
        },
        "id": "qSpWa9D9E5uT",
        "outputId": "14f848cf-7e45-4a25-ac78-9d3a77fdfd33"
      },
      "execution_count": null,
      "outputs": [
        {
          "output_type": "stream",
          "name": "stdout",
          "text": [
            "largest number :  5\n",
            "smallest number : 1\n",
            "[1, 2, 3, 4, 5]\n",
            "sum of numbers:  15\n",
            "reversed list :  [5, 4, 3, 2, 1]\n"
          ]
        }
      ]
    },
    {
      "cell_type": "code",
      "source": [
        "#4\n",
        "s = \"Hamza Alvi\"\n",
        "x = s.upper()\n",
        "z= s.split()\n",
        "c = s.lower()\n",
        "v = len(s)\n",
        "b = s[::-1]\n",
        "print(b)\n",
        "print(v)\n",
        "print(c)\n",
        "print(z)\n",
        "print(x)\n"
      ],
      "metadata": {
        "colab": {
          "base_uri": "https://localhost:8080/"
        },
        "id": "mhrwg-G5HbKl",
        "outputId": "d93d351b-d427-41e4-8b47-b3c2dde8b759"
      },
      "execution_count": null,
      "outputs": [
        {
          "output_type": "stream",
          "name": "stdout",
          "text": [
            "ivlA azmaH\n",
            "10\n",
            "hamza alvi\n",
            "['Hamza', 'Alvi']\n",
            "HAMZA ALVI\n"
          ]
        }
      ]
    },
    {
      "cell_type": "code",
      "source": [
        "#5\n",
        "x = [1,2,3,4,5]\n",
        "for i in x:\n",
        "  for j in x:\n",
        "    if i > 2 and j>2:\n",
        "      print(i,j)\n",
        ""
      ],
      "metadata": {
        "id": "HRJvgIgpLADw",
        "colab": {
          "base_uri": "https://localhost:8080/"
        },
        "outputId": "e058f39a-9a2d-46aa-a33a-a1188fafded3"
      },
      "execution_count": 5,
      "outputs": [
        {
          "output_type": "stream",
          "name": "stdout",
          "text": [
            "3 3\n",
            "3 4\n",
            "3 5\n",
            "4 3\n",
            "4 4\n",
            "4 5\n",
            "5 3\n",
            "5 4\n",
            "5 5\n"
          ]
        }
      ]
    },
    {
      "cell_type": "code",
      "source": [
        "def add(a,b):\n",
        "    return a+b\n",
        "\n",
        "a = int(input(\"Enter a number: \"))\n",
        "b = int(input(\"Enter a number: \"))\n",
        "x = add(a,b)\n",
        "print(x)\n"
      ],
      "metadata": {
        "colab": {
          "base_uri": "https://localhost:8080/"
        },
        "id": "Dva_cePOIXAQ",
        "outputId": "a5d20af7-ddee-44b2-fe25-ef8deebb262a"
      },
      "execution_count": 11,
      "outputs": [
        {
          "output_type": "stream",
          "name": "stdout",
          "text": [
            "Enter a number: 1\n",
            "Enter a number: 2\n",
            "3\n"
          ]
        }
      ]
    },
    {
      "cell_type": "code",
      "source": [
        "x = [1,2,3,4,5,6,7]\n",
        "print(x[-1])\n",
        "x[1:3]\n",
        "x[1:5:2]\n"
      ],
      "metadata": {
        "colab": {
          "base_uri": "https://localhost:8080/"
        },
        "id": "At7hFGi9KbQb",
        "outputId": "c325a2d0-b9f9-4ad0-cd7c-35abdd2c9831"
      },
      "execution_count": 21,
      "outputs": [
        {
          "output_type": "stream",
          "name": "stdout",
          "text": [
            "7\n"
          ]
        },
        {
          "output_type": "execute_result",
          "data": {
            "text/plain": [
              "[2, 4]"
            ]
          },
          "metadata": {},
          "execution_count": 21
        }
      ]
    },
    {
      "cell_type": "code",
      "source": [],
      "metadata": {
        "id": "GTS1w5NFMsto"
      },
      "execution_count": null,
      "outputs": []
    }
  ]
}