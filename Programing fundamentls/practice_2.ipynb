{
  "nbformat": 4,
  "nbformat_minor": 0,
  "metadata": {
    "colab": {
      "provenance": []
    },
    "kernelspec": {
      "name": "python3",
      "display_name": "Python 3"
    },
    "language_info": {
      "name": "python"
    }
  },
  "cells": [
    {
      "cell_type": "code",
      "execution_count": null,
      "metadata": {
        "id": "2K2MHQamhhAF"
      },
      "outputs": [],
      "source": [
        "#T1"
      ]
    },
    {
      "cell_type": "code",
      "source": [
        "import datetime\n",
        "name = \"hamza alvi\"\n",
        "birth_year = 2000\n",
        "student = False\n",
        "current_year = datetime.datetime.now().year\n",
        "age = current_year - birth_year\n",
        "print(name)\n",
        "print(age)\n",
        "print(student)"
      ],
      "metadata": {
        "colab": {
          "base_uri": "https://localhost:8080/"
        },
        "id": "OOPvqMVULGo7",
        "outputId": "d43e4b27-4b62-4672-d3fa-85952b5ec207"
      },
      "execution_count": null,
      "outputs": [
        {
          "output_type": "stream",
          "name": "stdout",
          "text": [
            "hamza alvi\n",
            "25\n",
            "False\n"
          ]
        }
      ]
    },
    {
      "cell_type": "code",
      "source": [
        "def float_number(float_number):\n",
        "  int_version = int(float_number)\n",
        "  str_version = str(float_number)\n",
        "  return int_version, str_version"
      ],
      "metadata": {
        "id": "OXRanbL7LS14"
      },
      "execution_count": null,
      "outputs": []
    },
    {
      "cell_type": "code",
      "source": [
        "float_input = 17.9\n",
        "int_result, str_result = float_number(float_input)\n",
        "print(\"\\nOriginal float:\", float_input)\n",
        "print(\"integer_version\", int_result)\n",
        "print(\"string_version\",str_result)"
      ],
      "metadata": {
        "colab": {
          "base_uri": "https://localhost:8080/"
        },
        "id": "-qvENy_5MvSb",
        "outputId": "d9c38802-713a-445f-ecd3-757cc6284377"
      },
      "execution_count": null,
      "outputs": [
        {
          "output_type": "stream",
          "name": "stdout",
          "text": [
            "\n",
            "Original float: 17.9\n",
            "integer_version 17\n",
            "string_version 17.9\n"
          ]
        }
      ]
    },
    {
      "cell_type": "code",
      "source": [
        "#task 2"
      ],
      "metadata": {
        "id": "pC2_jfwUNuJx"
      },
      "execution_count": null,
      "outputs": []
    },
    {
      "cell_type": "code",
      "source": [
        "def triangle_area():\n",
        " base = float(input(\"Enter base of the triangle: \"))\n",
        " height = float(input(\"Enter height of the triangle: \"))\n",
        " area = 0.5 * base * height\n",
        " print(\"Area of triangle \", area)\n",
        "\n",
        "triangle_area()"
      ],
      "metadata": {
        "colab": {
          "base_uri": "https://localhost:8080/"
        },
        "id": "qrSkHPsOPFeS",
        "outputId": "e464434d-e055-4511-cd65-036af53a180e"
      },
      "execution_count": null,
      "outputs": [
        {
          "output_type": "stream",
          "name": "stdout",
          "text": [
            "Enter base of the triangle: 44\n",
            "Enter height of the triangle: 33\n",
            "Area of triangle  726.0\n"
          ]
        }
      ]
    },
    {
      "cell_type": "code",
      "source": [
        "#Task 3  List"
      ],
      "metadata": {
        "id": "5JXTKIBlPHTw"
      },
      "execution_count": 2,
      "outputs": []
    },
    {
      "cell_type": "code",
      "source": [
        "list1 = [1,2,3,4,5,6,7,8,9,10]\n",
        "print(list1[3:8])"
      ],
      "metadata": {
        "colab": {
          "base_uri": "https://localhost:8080/"
        },
        "id": "WOG6wyr30gxt",
        "outputId": "53f5e5f9-fea9-476b-bd50-fcb19e04ef49"
      },
      "execution_count": 3,
      "outputs": [
        {
          "output_type": "stream",
          "name": "stdout",
          "text": [
            "[4, 5, 6, 7, 8]\n"
          ]
        }
      ]
    },
    {
      "cell_type": "code",
      "source": [
        "print(list1[::-1])"
      ],
      "metadata": {
        "colab": {
          "base_uri": "https://localhost:8080/"
        },
        "id": "cDy7BZBu1S7V",
        "outputId": "6c0aed9e-1b22-4e77-a754-aa9d4a86ce1b"
      },
      "execution_count": 8,
      "outputs": [
        {
          "output_type": "stream",
          "name": "stdout",
          "text": [
            "[10, 9, 8, 7, 6, 5, 4, 3, 2, 1]\n"
          ]
        }
      ]
    },
    {
      "cell_type": "code",
      "source": [
        "print(list1[::2])"
      ],
      "metadata": {
        "colab": {
          "base_uri": "https://localhost:8080/"
        },
        "id": "tsZZ8KWU1f5_",
        "outputId": "bd0e07c5-a4d3-4a1b-f95f-513159aa5fe1"
      },
      "execution_count": 15,
      "outputs": [
        {
          "output_type": "stream",
          "name": "stdout",
          "text": [
            "[1, 3, 5, 7, 9]\n"
          ]
        }
      ]
    },
    {
      "cell_type": "code",
      "source": [
        "#Type conversion"
      ],
      "metadata": {
        "id": "9hm1AJsW1oIi"
      },
      "execution_count": 16,
      "outputs": []
    },
    {
      "cell_type": "code",
      "source": [
        "n = \"45\"\n",
        "y = int(n) + 5\n",
        "print(y)\n"
      ],
      "metadata": {
        "colab": {
          "base_uri": "https://localhost:8080/"
        },
        "id": "AjrMIXrJ2ZzI",
        "outputId": "5da97dba-cbd8-4ecd-c9f5-40c7e8c63e63"
      },
      "execution_count": 18,
      "outputs": [
        {
          "output_type": "stream",
          "name": "stdout",
          "text": [
            "50\n"
          ]
        }
      ]
    },
    {
      "cell_type": "code",
      "source": [
        "z = 89.99\n",
        "x = int(z)\n",
        "print(x)"
      ],
      "metadata": {
        "colab": {
          "base_uri": "https://localhost:8080/"
        },
        "id": "ibeRuClV2uLi",
        "outputId": "ee409627-f4a3-4e13-8545-a3e17d237273"
      },
      "execution_count": 19,
      "outputs": [
        {
          "output_type": "stream",
          "name": "stdout",
          "text": [
            "89\n"
          ]
        }
      ]
    },
    {
      "cell_type": "code",
      "source": [
        "L = [10, 20, 30]\n",
        "T = tuple(L)\n",
        "print(T)\n",
        "type(T)"
      ],
      "metadata": {
        "colab": {
          "base_uri": "https://localhost:8080/"
        },
        "id": "kqlKC_N-23-1",
        "outputId": "8d6964d9-8f37-4a89-e49a-65fe23c78aa2"
      },
      "execution_count": 21,
      "outputs": [
        {
          "output_type": "stream",
          "name": "stdout",
          "text": [
            "(10, 20, 30)\n"
          ]
        },
        {
          "output_type": "execute_result",
          "data": {
            "text/plain": [
              "tuple"
            ]
          },
          "metadata": {},
          "execution_count": 21
        }
      ]
    },
    {
      "cell_type": "code",
      "source": [
        "s = \"Hamza Alvi\"\n",
        "n = 25\n",
        "x = s +\" \" + str(n)\n",
        "print(x)"
      ],
      "metadata": {
        "colab": {
          "base_uri": "https://localhost:8080/"
        },
        "id": "Tz4mwpGC2-yy",
        "outputId": "e2e25bef-133f-4ca9-8bac-0c870c3f4065"
      },
      "execution_count": 25,
      "outputs": [
        {
          "output_type": "stream",
          "name": "stdout",
          "text": [
            "Hamza Alvi 25\n"
          ]
        }
      ]
    },
    {
      "cell_type": "code",
      "source": [
        "#Nested structures"
      ],
      "metadata": {
        "id": "QOLTQ7Em3gLf"
      },
      "execution_count": 26,
      "outputs": []
    },
    {
      "cell_type": "code",
      "source": [
        "L = [[4,5],[6,7]]\n",
        "print(L[0][0])\n",
        "print(L[0][1])\n",
        "print(L[1][0])\n",
        "print(L[1][1])"
      ],
      "metadata": {
        "colab": {
          "base_uri": "https://localhost:8080/"
        },
        "id": "qrtiHz734Ahg",
        "outputId": "a3eeda0a-38a4-4a6a-8c7a-d8a5155d0ec3"
      },
      "execution_count": 27,
      "outputs": [
        {
          "output_type": "stream",
          "name": "stdout",
          "text": [
            "4\n",
            "5\n",
            "6\n",
            "7\n"
          ]
        }
      ]
    },
    {
      "cell_type": "code",
      "source": [
        "S = [{\"s1\":\"Hamza Alvi\", \"grade\":\"A-\"},{\"s2\":\"Alvi\",\"grade\":\"A+\"}]\n",
        "print(S[1][\"grade\"])"
      ],
      "metadata": {
        "colab": {
          "base_uri": "https://localhost:8080/"
        },
        "id": "gT3YJPlh5E9O",
        "outputId": "4be49c26-9d54-407e-98ea-161a8b438b55"
      },
      "execution_count": 30,
      "outputs": [
        {
          "output_type": "stream",
          "name": "stdout",
          "text": [
            "A+\n"
          ]
        }
      ]
    },
    {
      "cell_type": "code",
      "source": [
        "Data = {\"user1\":{\"name\":\"Hamza Alvi\",\"age\":\"25\"}, \"user2\":{\"name\":\"Alvi\",\"age\":\"25\"}}\n",
        "print(Data[\"user1\"][\"name\"])"
      ],
      "metadata": {
        "colab": {
          "base_uri": "https://localhost:8080/"
        },
        "id": "v8Dh121S6PZ6",
        "outputId": "4b011bf0-cb65-49b1-affb-78880e0b9c68"
      },
      "execution_count": 31,
      "outputs": [
        {
          "output_type": "stream",
          "name": "stdout",
          "text": [
            "Hamza Alvi\n"
          ]
        }
      ]
    },
    {
      "cell_type": "code",
      "source": [
        "#List compression"
      ],
      "metadata": {
        "id": "JJbXENyv7Gla"
      },
      "execution_count": 33,
      "outputs": []
    },
    {
      "cell_type": "code",
      "source": [
        "list1 = [1,2,3,4,5,6,7,8,9,10]\n",
        "List_new = [x for x in list1 if x % 2 != 0]\n",
        "print(List_new)"
      ],
      "metadata": {
        "colab": {
          "base_uri": "https://localhost:8080/"
        },
        "id": "GIfc6yxT8bFy",
        "outputId": "c084dac8-db9f-45d7-83f2-893899aff177"
      },
      "execution_count": 37,
      "outputs": [
        {
          "output_type": "stream",
          "name": "stdout",
          "text": [
            "[1, 3, 5, 7, 9]\n"
          ]
        }
      ]
    },
    {
      "cell_type": "code",
      "source": [
        "list_1 = [\"cat\", \"dog\", \"cow\"]\n",
        "L = [len(list_1) for x in list_1]\n",
        "print(L)"
      ],
      "metadata": {
        "colab": {
          "base_uri": "https://localhost:8080/"
        },
        "id": "Td0zAYaB87lX",
        "outputId": "c2743935-c011-42a3-a977-024c21e076d9"
      },
      "execution_count": 38,
      "outputs": [
        {
          "output_type": "stream",
          "name": "stdout",
          "text": [
            "[3, 3, 3]\n"
          ]
        }
      ]
    },
    {
      "cell_type": "code",
      "source": [
        "L = [1, 3, 5, 7, 9]\n",
        "L1 = [x**2 for x in L if x>5]\n",
        "print(L1)"
      ],
      "metadata": {
        "colab": {
          "base_uri": "https://localhost:8080/"
        },
        "id": "K6mr3SD_-Knm",
        "outputId": "ff11ae27-37a5-4384-cdbd-f29d0eca3be2"
      },
      "execution_count": 39,
      "outputs": [
        {
          "output_type": "stream",
          "name": "stdout",
          "text": [
            "[49, 81]\n"
          ]
        }
      ]
    },
    {
      "cell_type": "code",
      "source": [
        "#Lamda function"
      ],
      "metadata": {
        "id": "0xXShhMN-g-I"
      },
      "execution_count": 40,
      "outputs": []
    },
    {
      "cell_type": "code",
      "source": [
        "n = lambda x: x*3\n",
        "print(n(6))"
      ],
      "metadata": {
        "colab": {
          "base_uri": "https://localhost:8080/"
        },
        "id": "YJydSG5MCXSn",
        "outputId": "2207b81f-09e6-4b51-f723-97cfc3df72fd"
      },
      "execution_count": 41,
      "outputs": [
        {
          "output_type": "stream",
          "name": "stdout",
          "text": [
            "18\n"
          ]
        }
      ]
    },
    {
      "cell_type": "code",
      "source": [
        "n = 8\n",
        "l = lambda n : n % 2 == 0\n",
        "print(l(n))"
      ],
      "metadata": {
        "colab": {
          "base_uri": "https://localhost:8080/"
        },
        "id": "anu4O5L-DTL8",
        "outputId": "786ec07f-48de-4d8f-94f0-b65002b0d274"
      },
      "execution_count": 45,
      "outputs": [
        {
          "output_type": "stream",
          "name": "stdout",
          "text": [
            "True\n"
          ]
        }
      ]
    },
    {
      "cell_type": "code",
      "source": [
        "l = [1, 2, 3]\n",
        "L1 = list(map(lambda x:x*2,l))\n",
        "print(L1)"
      ],
      "metadata": {
        "colab": {
          "base_uri": "https://localhost:8080/"
        },
        "id": "-ePnlmcjDztv",
        "outputId": "80def610-e777-49e8-9a16-85efedba8ed3"
      },
      "execution_count": 47,
      "outputs": [
        {
          "output_type": "stream",
          "name": "stdout",
          "text": [
            "[2, 4, 6]\n"
          ]
        }
      ]
    },
    {
      "cell_type": "code",
      "source": [
        "L = [10, 11, 12, 13, 14, 15]\n",
        "l1 = list(filter(lambda x:x % 2 != 0 ,L))\n",
        "print(l1)"
      ],
      "metadata": {
        "colab": {
          "base_uri": "https://localhost:8080/"
        },
        "id": "dntEJ7xaEs7x",
        "outputId": "71fccf6c-f00e-44d4-9456-56a6f262e442"
      },
      "execution_count": 51,
      "outputs": [
        {
          "output_type": "stream",
          "name": "stdout",
          "text": [
            "[11, 13, 15]\n"
          ]
        }
      ]
    },
    {
      "cell_type": "code",
      "source": [
        "#enumurate and zip"
      ],
      "metadata": {
        "id": "vXUbXMquFpOm"
      },
      "execution_count": 52,
      "outputs": []
    },
    {
      "cell_type": "code",
      "source": [
        "x = [\"pen\", \"pencil\", \"eraser\"]\n",
        "for index,value in enumerate(x):\n",
        "  print(index,value)"
      ],
      "metadata": {
        "colab": {
          "base_uri": "https://localhost:8080/"
        },
        "id": "pLDZhjSPLO2T",
        "outputId": "68d038d0-c867-4571-d85b-39a21da6d597"
      },
      "execution_count": 53,
      "outputs": [
        {
          "output_type": "stream",
          "name": "stdout",
          "text": [
            "0 pen\n",
            "1 pencil\n",
            "2 eraser\n"
          ]
        }
      ]
    },
    {
      "cell_type": "code",
      "source": [
        "students = [\"Hamza\", \"Alvi\", \"Usman\"]\n",
        "marks = [88, 92, 79]\n",
        "for student, mark in zip(students, marks):\n",
        "  print(student, mark)"
      ],
      "metadata": {
        "colab": {
          "base_uri": "https://localhost:8080/"
        },
        "id": "9WihROJELciO",
        "outputId": "940158b6-7b35-47c8-b0e9-3add7ea07e84"
      },
      "execution_count": 54,
      "outputs": [
        {
          "output_type": "stream",
          "name": "stdout",
          "text": [
            "Hamza 88\n",
            "Alvi 92\n",
            "Usman 79\n"
          ]
        }
      ]
    },
    {
      "cell_type": "code",
      "source": [
        "### DSA ###    linear search"
      ],
      "metadata": {
        "id": "f6u0qs4TLrGc"
      },
      "execution_count": 63,
      "outputs": []
    },
    {
      "cell_type": "code",
      "source": [
        "l = [\"cat\", \"dog\", \"elephant\"]\n",
        "def linear_search(list,target):\n",
        "  for index,value in enumerate(list):\n",
        "    if value == target:\n",
        "      return f\"found in the index : {index} of the list\"\n",
        "  return \"not found\"\n",
        "\n",
        "linear_search(l,\"dog\")"
      ],
      "metadata": {
        "colab": {
          "base_uri": "https://localhost:8080/",
          "height": 35
        },
        "id": "_cG93m3qOKRR",
        "outputId": "b7226103-306e-4b2f-c11e-a5434298cd7f"
      },
      "execution_count": 66,
      "outputs": [
        {
          "output_type": "execute_result",
          "data": {
            "text/plain": [
              "'found in the index : 1 of the list'"
            ],
            "application/vnd.google.colaboratory.intrinsic+json": {
              "type": "string"
            }
          },
          "metadata": {},
          "execution_count": 66
        }
      ]
    },
    {
      "cell_type": "code",
      "source": [
        "linear_search(l,\"fish\")"
      ],
      "metadata": {
        "colab": {
          "base_uri": "https://localhost:8080/",
          "height": 35
        },
        "id": "N-0zI1F4PLsK",
        "outputId": "c4c6398d-295b-4fa8-b1a9-8e3ce91a14f1"
      },
      "execution_count": 65,
      "outputs": [
        {
          "output_type": "execute_result",
          "data": {
            "text/plain": [
              "'not found'"
            ],
            "application/vnd.google.colaboratory.intrinsic+json": {
              "type": "string"
            }
          },
          "metadata": {},
          "execution_count": 65
        }
      ]
    },
    {
      "cell_type": "code",
      "source": [
        "#bineary search"
      ],
      "metadata": {
        "id": "ZycT9VrcPyxe"
      },
      "execution_count": 67,
      "outputs": []
    },
    {
      "cell_type": "code",
      "source": [
        "l= [1, 3, 5, 7, 9, 11, 13]\n",
        "def binary_search(list,target):\n",
        "  left = 0\n",
        "  right = len(list) - 1\n",
        "\n",
        "  while left <= right:\n",
        "    mid = (left + right) // 2\n",
        "    if list[mid] == target:\n",
        "      return f\"found at index {mid}\"\n",
        "    elif list[mid] < target:\n",
        "      left = mid + 1\n",
        "    else:\n",
        "      right = mid - 1\n",
        "\n",
        "  return \"not found\"\n",
        "\n",
        "binary_search(l,9)\n",
        "\n"
      ],
      "metadata": {
        "colab": {
          "base_uri": "https://localhost:8080/",
          "height": 35
        },
        "id": "LFZvief6T1_6",
        "outputId": "efcbe044-8ba2-4380-901e-bbdc01d755b1"
      },
      "execution_count": 72,
      "outputs": [
        {
          "output_type": "execute_result",
          "data": {
            "text/plain": [
              "'found at index 4'"
            ],
            "application/vnd.google.colaboratory.intrinsic+json": {
              "type": "string"
            }
          },
          "metadata": {},
          "execution_count": 72
        }
      ]
    },
    {
      "cell_type": "code",
      "source": [
        "binary_search(l,4)"
      ],
      "metadata": {
        "colab": {
          "base_uri": "https://localhost:8080/",
          "height": 35
        },
        "id": "gstriXOAT9Al",
        "outputId": "9717efed-9e10-4c81-8589-6cfc2fdf85cb"
      },
      "execution_count": 73,
      "outputs": [
        {
          "output_type": "execute_result",
          "data": {
            "text/plain": [
              "'not found'"
            ],
            "application/vnd.google.colaboratory.intrinsic+json": {
              "type": "string"
            }
          },
          "metadata": {},
          "execution_count": 73
        }
      ]
    },
    {
      "cell_type": "code",
      "source": [
        "#swaping in python"
      ],
      "metadata": {
        "id": "qBVckG4GWGrR"
      },
      "execution_count": 1,
      "outputs": []
    },
    {
      "cell_type": "code",
      "source": [
        "a = 10\n",
        "b = 20\n",
        "print(\"Before swap:\", a, b)\n",
        "\n",
        "a, b = b, a\n",
        "print(\"After swap:\", a, b)\n"
      ],
      "metadata": {
        "colab": {
          "base_uri": "https://localhost:8080/"
        },
        "id": "AuCsLwG6GIAe",
        "outputId": "4e34fb05-3931-4500-9498-a7ad27640975"
      },
      "execution_count": 2,
      "outputs": [
        {
          "output_type": "stream",
          "name": "stdout",
          "text": [
            "Before swap: 10 20\n",
            "After swap: 20 10\n"
          ]
        }
      ]
    },
    {
      "cell_type": "code",
      "source": [
        "# Bubble sort"
      ],
      "metadata": {
        "id": "evCisdNYGKkI"
      },
      "execution_count": 3,
      "outputs": []
    },
    {
      "cell_type": "code",
      "source": [
        "l = [10, 2, 5, 3, 1]\n",
        "def bubble_sort(arr):\n",
        "    n = len(arr)\n",
        "    for i in range(n):\n",
        "        for j in range(0, n-i-1):\n",
        "            if arr[j] > arr[j+1]:\n",
        "                print(f\"Swapping {arr[j]} and {arr[j+1]}\")\n",
        "                arr[j], arr[j+1] = arr[j+1], arr[j]\n",
        "    return arr\n",
        "\n",
        "print(bubble_sort(l))\n"
      ],
      "metadata": {
        "colab": {
          "base_uri": "https://localhost:8080/"
        },
        "id": "dxfpMOiNGVQ0",
        "outputId": "2b9154a4-b26a-4bb4-beb8-5526ef169dfe"
      },
      "execution_count": 5,
      "outputs": [
        {
          "output_type": "stream",
          "name": "stdout",
          "text": [
            "Swapping 10 and 2\n",
            "Swapping 10 and 5\n",
            "Swapping 10 and 3\n",
            "Swapping 10 and 1\n",
            "Swapping 5 and 3\n",
            "Swapping 5 and 1\n",
            "Swapping 3 and 1\n",
            "Swapping 2 and 1\n",
            "[1, 2, 3, 5, 10]\n"
          ]
        }
      ]
    },
    {
      "cell_type": "code",
      "source": [],
      "metadata": {
        "id": "_fogVsrjGdJm"
      },
      "execution_count": null,
      "outputs": []
    }
  ]
}