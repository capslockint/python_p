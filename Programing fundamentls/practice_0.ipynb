{
  "cells": [
    {
      "cell_type": "code",
      "execution_count": null,
      "id": "2ef4f7ae",
      "metadata": {
        "id": "2ef4f7ae"
      },
      "outputs": [],
      "source": [
        "# Activity 01"
      ]
    },
    {
      "cell_type": "code",
      "execution_count": null,
      "id": "9b39de3f",
      "metadata": {
        "id": "9b39de3f",
        "outputId": "c39a2ab7-0e45-4c5b-de7d-7c187d8df98d",
        "colab": {
          "base_uri": "https://localhost:8080/"
        }
      },
      "outputs": [
        {
          "output_type": "stream",
          "name": "stdout",
          "text": [
            "24 hamza False\n"
          ]
        }
      ],
      "source": [
        "# Tast 01\n",
        "age = 24\n",
        "name = \"hamza\"\n",
        "student = False\n",
        "\n",
        "print(age , name , student)"
      ]
    },
    {
      "cell_type": "code",
      "execution_count": null,
      "id": "57cc0b7e",
      "metadata": {
        "id": "57cc0b7e",
        "outputId": "9c5c1a1f-896f-4d4c-f1d0-78d03ee553af",
        "colab": {
          "base_uri": "https://localhost:8080/"
        }
      },
      "outputs": [
        {
          "output_type": "stream",
          "name": "stdout",
          "text": [
            "49\n",
            "smith  hamza\n",
            "True\n"
          ]
        }
      ],
      "source": [
        "total_age = 25 + age\n",
        "print(total_age)\n",
        "print(\"smith \", name)\n",
        "if student == True:\n",
        "    student = False\n",
        "    print(student)\n",
        "else:\n",
        "    student = True\n",
        "    print(student)"
      ]
    },
    {
      "cell_type": "code",
      "execution_count": null,
      "id": "4687eaf2",
      "metadata": {
        "id": "4687eaf2"
      },
      "outputs": [],
      "source": [
        "# Tast 02"
      ]
    },
    {
      "cell_type": "code",
      "execution_count": null,
      "id": "99535c2c",
      "metadata": {
        "id": "99535c2c",
        "outputId": "3921579e-9ce6-471e-9afe-1e7dae21ecaf",
        "colab": {
          "base_uri": "https://localhost:8080/"
        }
      },
      "outputs": [
        {
          "output_type": "stream",
          "name": "stdout",
          "text": [
            "Area of the rectangle: 17.875\n",
            "Temperature in Fahrenheit: 77.0\n",
            "Area of the circle: 78.53975\n"
          ]
        }
      ],
      "source": [
        "width = 5.5\n",
        "height = 3.25\n",
        "area = width * height\n",
        "print(\"Area of the rectangle:\", area)\n",
        "\n",
        "celsius_temp = 25\n",
        "fahrenheit_temp = (celsius_temp * 9/5) + 32\n",
        "print(\"Temperature in Fahrenheit:\", fahrenheit_temp)\n",
        "\n",
        "radius = 5\n",
        "pi = 3.14159\n",
        "area_circle = pi * radius ** 2\n",
        "print(\"Area of the circle:\", area_circle)"
      ]
    },
    {
      "cell_type": "code",
      "execution_count": null,
      "id": "8601e375",
      "metadata": {
        "id": "8601e375"
      },
      "outputs": [],
      "source": [
        "# Task 03"
      ]
    },
    {
      "cell_type": "code",
      "execution_count": null,
      "id": "a320d670",
      "metadata": {
        "id": "a320d670",
        "outputId": "8bf719e9-f272-4a4a-fa64-ece560c5f6ed",
        "colab": {
          "base_uri": "https://localhost:8080/"
        }
      },
      "outputs": [
        {
          "output_type": "stream",
          "name": "stdout",
          "text": [
            "['apple', 'banana', 'orange', 'grape', 'kiwi']\n"
          ]
        }
      ],
      "source": [
        "fruits = [\"apple\", \"banana\", \"orange\", \"grape\", \"kiwi\"]\n",
        "print(fruits)"
      ]
    },
    {
      "cell_type": "code",
      "execution_count": null,
      "id": "3c3c75c3",
      "metadata": {
        "id": "3c3c75c3",
        "outputId": "f5e1a1c7-4f2f-4c48-b083-c782156820c5",
        "colab": {
          "base_uri": "https://localhost:8080/"
        }
      },
      "outputs": [
        {
          "output_type": "stream",
          "name": "stdout",
          "text": [
            "('jaun', 'feb', 'may')\n"
          ]
        }
      ],
      "source": [
        "months = (\"jaun\", \"feb\", \"may\")\n",
        "print(months)"
      ]
    },
    {
      "cell_type": "code",
      "execution_count": null,
      "id": "903378f8",
      "metadata": {
        "id": "903378f8"
      },
      "outputs": [],
      "source": [
        "# Task 04"
      ]
    },
    {
      "cell_type": "code",
      "execution_count": null,
      "id": "1e230c53",
      "metadata": {
        "id": "1e230c53"
      },
      "outputs": [],
      "source": [
        "numbers = [12, 34, 45, 67, 89, 100, 23, 56]\n",
        "\n",
        "total_sum = sum(numbers)\n",
        "average = total_sum / len(numbers)"
      ]
    },
    {
      "cell_type": "code",
      "execution_count": null,
      "id": "340a0b49",
      "metadata": {
        "id": "340a0b49",
        "outputId": "e101688f-5b76-4e18-8460-4cdcddf83cd6",
        "colab": {
          "base_uri": "https://localhost:8080/"
        }
      },
      "outputs": [
        {
          "output_type": "stream",
          "name": "stdout",
          "text": [
            "Sum of the numbers: 426\n",
            "Average of the numbers: 53.25\n"
          ]
        }
      ],
      "source": [
        "# Print results\n",
        "print(\"Sum of the numbers:\", total_sum)\n",
        "print(\"Average of the numbers:\", average)"
      ]
    },
    {
      "cell_type": "code",
      "execution_count": null,
      "id": "2a326809",
      "metadata": {
        "id": "2a326809",
        "outputId": "67130186-60f3-4a1d-eaf1-bcd194d12733",
        "colab": {
          "base_uri": "https://localhost:8080/"
        }
      },
      "outputs": [
        {
          "output_type": "stream",
          "name": "stdout",
          "text": [
            "['banana', 'orange', 'grape']\n"
          ]
        }
      ],
      "source": [
        "del fruits[0]\n",
        "del fruits[3]\n",
        "print(fruits)"
      ]
    },
    {
      "cell_type": "code",
      "execution_count": null,
      "id": "e3635a3a",
      "metadata": {
        "id": "e3635a3a"
      },
      "outputs": [],
      "source": [
        "# Task 05"
      ]
    },
    {
      "cell_type": "code",
      "execution_count": null,
      "id": "18e7751e",
      "metadata": {
        "id": "18e7751e",
        "outputId": "daee7a7b-5a80-4f2a-dac9-920870bdc4e8",
        "colab": {
          "base_uri": "https://localhost:8080/"
        }
      },
      "outputs": [
        {
          "output_type": "stream",
          "name": "stdout",
          "text": [
            "{'usa': 'washington D.C', 'france': 'paris', 'japan': 'tokyo'}\n"
          ]
        }
      ],
      "source": [
        "capitals = {\"usa\": \"washington D.C\", \"france\": \"paris\", \"japan\": \"tokyo\"}\n",
        "print(capitals)"
      ]
    },
    {
      "cell_type": "code",
      "execution_count": null,
      "id": "94576f41",
      "metadata": {
        "id": "94576f41",
        "outputId": "b78c7e2d-a545-46a1-c09b-a3d770119cf0",
        "colab": {
          "base_uri": "https://localhost:8080/"
        }
      },
      "outputs": [
        {
          "output_type": "stream",
          "name": "stdout",
          "text": [
            "{'usa': 'washington D.C', 'france': 'paris', 'japan': 'tokyo', 'germany': 'berlin'}\n"
          ]
        }
      ],
      "source": [
        "capitals['germany'] = 'berlin'\n",
        "print(capitals)\n"
      ]
    },
    {
      "cell_type": "code",
      "execution_count": null,
      "id": "0856c39d",
      "metadata": {
        "id": "0856c39d",
        "outputId": "4d428621-14c3-49a1-ed48-649b298a96d6",
        "colab": {
          "base_uri": "https://localhost:8080/"
        }
      },
      "outputs": [
        {
          "output_type": "stream",
          "name": "stdout",
          "text": [
            "france in a dictionary\n"
          ]
        }
      ],
      "source": [
        "if \"france\" in capitals:\n",
        "    print(\"france in a dictionary\")\n",
        "else:\n",
        "    print(\"france is not in a dictionary\")"
      ]
    },
    {
      "cell_type": "code",
      "execution_count": null,
      "id": "35d76c0b",
      "metadata": {
        "id": "35d76c0b"
      },
      "outputs": [],
      "source": [
        "# Tast 06"
      ]
    },
    {
      "cell_type": "code",
      "execution_count": null,
      "id": "7ccaa891",
      "metadata": {
        "id": "7ccaa891",
        "outputId": "c647c564-1cdc-479d-ed17-851eac370188",
        "colab": {
          "base_uri": "https://localhost:8080/"
        }
      },
      "outputs": [
        {
          "output_type": "stream",
          "name": "stdout",
          "text": [
            "Enter a number: 10\n",
            "10  : this number is even.\n"
          ]
        }
      ],
      "source": [
        "number = int(input(\"Enter a number: \"))\n",
        "\n",
        "if number % 2 == 0:\n",
        "    print(number, \" : this number is even.\")\n",
        "else:\n",
        "    print(number, \" : this number is odd.\")"
      ]
    },
    {
      "cell_type": "code",
      "execution_count": null,
      "id": "c2f83b5a",
      "metadata": {
        "id": "c2f83b5a",
        "outputId": "e5ae6e8e-f4f9-46b0-bb7a-1f679d313826",
        "colab": {
          "base_uri": "https://localhost:8080/"
        }
      },
      "outputs": [
        {
          "output_type": "stream",
          "name": "stdout",
          "text": [
            "Eligible for admission\n"
          ]
        }
      ],
      "source": [
        "age = 20\n",
        "gpa = 3.5\n",
        "\n",
        "if age >= 18 and gpa >= 3.0:\n",
        "    print(\"Eligible for admission\")\n",
        "else:\n",
        "    print(\"Not eligible for admission\")"
      ]
    },
    {
      "cell_type": "code",
      "execution_count": null,
      "id": "8345caf6",
      "metadata": {
        "id": "8345caf6"
      },
      "outputs": [],
      "source": [
        "# Task 07"
      ]
    },
    {
      "cell_type": "code",
      "execution_count": null,
      "id": "357aeb44",
      "metadata": {
        "id": "357aeb44",
        "outputId": "7b59c4c7-10e4-44d9-efd5-fcd4367735ba",
        "colab": {
          "base_uri": "https://localhost:8080/"
        }
      },
      "outputs": [
        {
          "output_type": "stream",
          "name": "stdout",
          "text": [
            "{'apple', 'grape', 'kiwi', 'banana', 'orange'}\n"
          ]
        }
      ],
      "source": [
        "fruits_set = {\"apple\", \"banana\", \"orange\", \"grape\", \"kiwi\"}\n",
        "print(fruits_set)"
      ]
    },
    {
      "cell_type": "code",
      "execution_count": null,
      "id": "5be823d9",
      "metadata": {
        "id": "5be823d9"
      },
      "outputs": [],
      "source": [
        "set1 = {1, 2, 3, 4, 5}\n",
        "set2 = {3, 4, 5, 6, 7}"
      ]
    },
    {
      "cell_type": "code",
      "execution_count": null,
      "id": "990af6e7",
      "metadata": {
        "id": "990af6e7",
        "outputId": "52128544-8708-4d17-f4ee-6f0bfe569baa",
        "colab": {
          "base_uri": "https://localhost:8080/"
        }
      },
      "outputs": [
        {
          "output_type": "stream",
          "name": "stdout",
          "text": [
            "{1, 2, 3, 4, 5, 6, 7}\n"
          ]
        }
      ],
      "source": [
        "union = set1 | set2\n",
        "print(union)"
      ]
    },
    {
      "cell_type": "code",
      "execution_count": null,
      "id": "9a59cf1f",
      "metadata": {
        "id": "9a59cf1f",
        "outputId": "c4655246-dfb2-4d01-e8f0-385831af6e94",
        "colab": {
          "base_uri": "https://localhost:8080/"
        }
      },
      "outputs": [
        {
          "output_type": "stream",
          "name": "stdout",
          "text": [
            "{3, 4, 5}\n"
          ]
        }
      ],
      "source": [
        "intt = set1 & set2\n",
        "print(intt)"
      ]
    },
    {
      "cell_type": "code",
      "execution_count": null,
      "id": "a5211170",
      "metadata": {
        "id": "a5211170",
        "outputId": "e0ca111a-20bb-4e7d-c09e-e3448c91fcc0",
        "colab": {
          "base_uri": "https://localhost:8080/"
        }
      },
      "outputs": [
        {
          "output_type": "stream",
          "name": "stdout",
          "text": [
            "{1, 2}\n"
          ]
        }
      ],
      "source": [
        "diff = set1 - set2\n",
        "print(diff)"
      ]
    },
    {
      "cell_type": "code",
      "execution_count": null,
      "id": "6cca5b6d",
      "metadata": {
        "id": "6cca5b6d",
        "outputId": "376443c2-12d8-4bf1-e523-7bd9b6844ee1",
        "colab": {
          "base_uri": "https://localhost:8080/"
        }
      },
      "outputs": [
        {
          "output_type": "stream",
          "name": "stdout",
          "text": [
            "no set1 is not subset of set2\n"
          ]
        }
      ],
      "source": [
        "if set1.issubset(set2):\n",
        "    print(\"yes set1 is subset of set2\")\n",
        "else:\n",
        "    print(\"no set1 is not subset of set2\")\n"
      ]
    },
    {
      "cell_type": "code",
      "execution_count": null,
      "id": "a3752e08",
      "metadata": {
        "id": "a3752e08"
      },
      "outputs": [],
      "source": [
        "# task 08"
      ]
    },
    {
      "cell_type": "code",
      "execution_count": null,
      "id": "e02f7fa7",
      "metadata": {
        "id": "e02f7fa7"
      },
      "outputs": [],
      "source": [
        "z = \"python programming is fun and poweful!\""
      ]
    },
    {
      "cell_type": "code",
      "execution_count": null,
      "id": "f25640b3",
      "metadata": {
        "id": "f25640b3",
        "outputId": "87c400d6-d40f-42a2-d2a8-f54a35c0540a",
        "colab": {
          "base_uri": "https://localhost:8080/"
        }
      },
      "outputs": [
        {
          "output_type": "execute_result",
          "data": {
            "text/plain": [
              "38"
            ]
          },
          "metadata": {},
          "execution_count": 30
        }
      ],
      "source": [
        "len(z)"
      ]
    },
    {
      "cell_type": "code",
      "execution_count": null,
      "id": "b03823fd",
      "metadata": {
        "id": "b03823fd",
        "outputId": "5ac32953-4941-4c23-ae50-05f9b65776e9",
        "colab": {
          "base_uri": "https://localhost:8080/"
        }
      },
      "outputs": [
        {
          "output_type": "stream",
          "name": "stdout",
          "text": [
            "Uppercase: PYTHON PROGRAMMING IS FUN AND POWEFUL!\n"
          ]
        }
      ],
      "source": [
        "uppercase_string = z.upper()\n",
        "print(\"Uppercase:\", uppercase_string)"
      ]
    },
    {
      "cell_type": "code",
      "execution_count": null,
      "id": "ea5a67c9",
      "metadata": {
        "id": "ea5a67c9",
        "outputId": "cdc58b19-f836-4e2a-a005-3eb7bc2da535",
        "colab": {
          "base_uri": "https://localhost:8080/"
        }
      },
      "outputs": [
        {
          "output_type": "stream",
          "name": "stdout",
          "text": [
            "python programming is exciting and poweful!\n"
          ]
        }
      ],
      "source": [
        "x = z.replace(\"fun\", \"exciting\")\n",
        "print(x)"
      ]
    },
    {
      "cell_type": "code",
      "execution_count": null,
      "id": "b7bfb3c2",
      "metadata": {
        "id": "b7bfb3c2",
        "outputId": "5b8c7d05-17d4-4165-a738-58cead892931",
        "colab": {
          "base_uri": "https://localhost:8080/"
        }
      },
      "outputs": [
        {
          "output_type": "stream",
          "name": "stdout",
          "text": [
            "yes word python is in a string\n"
          ]
        }
      ],
      "source": [
        "if \"python\" in z:\n",
        "    print(\"yes word python is in a string\")\n",
        "else:\n",
        "    print(\"python word is not in a string\")"
      ]
    },
    {
      "cell_type": "code",
      "execution_count": null,
      "id": "95b68faa",
      "metadata": {
        "id": "95b68faa",
        "outputId": "9e133a64-8004-4f0d-e58f-2e1a6ecdc672",
        "colab": {
          "base_uri": "https://localhost:8080/"
        }
      },
      "outputs": [
        {
          "output_type": "stream",
          "name": "stdout",
          "text": [
            "['python', 'programming', 'is', 'fun', 'and', 'poweful!']\n"
          ]
        }
      ],
      "source": [
        "c = z.split()\n",
        "print(c)"
      ]
    },
    {
      "cell_type": "code",
      "execution_count": null,
      "id": "160cc370",
      "metadata": {
        "id": "160cc370"
      },
      "outputs": [],
      "source": [
        "# All task completed"
      ]
    }
  ],
  "metadata": {
    "kernelspec": {
      "display_name": "Python 3 (ipykernel)",
      "language": "python",
      "name": "python3"
    },
    "language_info": {
      "codemirror_mode": {
        "name": "ipython",
        "version": 3
      },
      "file_extension": ".py",
      "mimetype": "text/x-python",
      "name": "python",
      "nbconvert_exporter": "python",
      "pygments_lexer": "ipython3",
      "version": "3.11.7"
    },
    "colab": {
      "provenance": []
    }
  },
  "nbformat": 4,
  "nbformat_minor": 5
}