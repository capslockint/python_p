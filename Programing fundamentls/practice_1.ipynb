{
  "nbformat": 4,
  "nbformat_minor": 0,
  "metadata": {
    "colab": {
      "provenance": []
    },
    "kernelspec": {
      "name": "python3",
      "display_name": "Python 3"
    },
    "language_info": {
      "name": "python"
    }
  },
  "cells": [
    {
      "cell_type": "code",
      "execution_count": null,
      "metadata": {
        "colab": {
          "base_uri": "https://localhost:8080/"
        },
        "id": "ozYllh0_mLnv",
        "outputId": "f23f8922-6373-4927-ee3a-86c061b466e8"
      },
      "outputs": [
        {
          "output_type": "execute_result",
          "data": {
            "text/plain": [
              "4"
            ]
          },
          "metadata": {},
          "execution_count": 1
        }
      ],
      "source": [
        "def square(a):\n",
        "  return a*2\n",
        "square(2)"
      ]
    },
    {
      "cell_type": "code",
      "source": [
        "def addition(a,b,c):\n",
        "    d=a+b+c\n",
        "    return d\n",
        "addition(1,2,3)\n"
      ],
      "metadata": {
        "colab": {
          "base_uri": "https://localhost:8080/"
        },
        "id": "6DKv2kfMLjDd",
        "outputId": "e05df9f7-5fbe-40a7-de85-7a0b1b0b07c2"
      },
      "execution_count": null,
      "outputs": [
        {
          "output_type": "execute_result",
          "data": {
            "text/plain": [
              "6"
            ]
          },
          "metadata": {},
          "execution_count": 2
        }
      ]
    },
    {
      "cell_type": "code",
      "source": [
        "def name(YourName):\n",
        "  YourName = input(\"Your Name :\")\n",
        "  print(\"Your name is \", YourName)\n",
        "name(\"YourName\")"
      ],
      "metadata": {
        "colab": {
          "base_uri": "https://localhost:8080/"
        },
        "id": "oG9xiyyHL42O",
        "outputId": "daa95280-af5e-4702-d218-9bfef578b28a"
      },
      "execution_count": null,
      "outputs": [
        {
          "output_type": "stream",
          "name": "stdout",
          "text": [
            "Your Name :Hamza alvi\n",
            "Your name is  Hamza alvi\n"
          ]
        }
      ]
    },
    {
      "cell_type": "code",
      "source": [
        "#for loop"
      ],
      "metadata": {
        "id": "QToS8cqQMZVB"
      },
      "execution_count": null,
      "outputs": []
    },
    {
      "cell_type": "code",
      "source": [
        "for i in range(1,11):\n",
        "  print(i)"
      ],
      "metadata": {
        "colab": {
          "base_uri": "https://localhost:8080/"
        },
        "id": "SdGSI1mG8KE6",
        "outputId": "5a7c3374-16f4-4a26-cdde-ee7370a9de09"
      },
      "execution_count": null,
      "outputs": [
        {
          "output_type": "stream",
          "name": "stdout",
          "text": [
            "1\n",
            "2\n",
            "3\n",
            "4\n",
            "5\n",
            "6\n",
            "7\n",
            "8\n",
            "9\n",
            "10\n"
          ]
        }
      ]
    },
    {
      "cell_type": "code",
      "source": [
        "for i in range(1,11):\n",
        "  print(\"2 *\",i,\"=\",i*2)"
      ],
      "metadata": {
        "colab": {
          "base_uri": "https://localhost:8080/"
        },
        "id": "2RpBocWg8a-g",
        "outputId": "9beb9315-78cd-47e2-c3ac-c219982eb536"
      },
      "execution_count": null,
      "outputs": [
        {
          "output_type": "stream",
          "name": "stdout",
          "text": [
            "2 * 1 = 2\n",
            "2 * 2 = 4\n",
            "2 * 3 = 6\n",
            "2 * 4 = 8\n",
            "2 * 5 = 10\n",
            "2 * 6 = 12\n",
            "2 * 7 = 14\n",
            "2 * 8 = 16\n",
            "2 * 9 = 18\n",
            "2 * 10 = 20\n"
          ]
        }
      ]
    },
    {
      "cell_type": "code",
      "source": [
        "n=\"Hamza Alvi\"\n",
        "for i in n:\n",
        "  print(i)"
      ],
      "metadata": {
        "colab": {
          "base_uri": "https://localhost:8080/"
        },
        "id": "dy0G1SrP8hfF",
        "outputId": "cc12b071-83d7-4ec8-a11a-ee10f535847c"
      },
      "execution_count": null,
      "outputs": [
        {
          "output_type": "stream",
          "name": "stdout",
          "text": [
            "H\n",
            "a\n",
            "m\n",
            "z\n",
            "a\n",
            " \n",
            "A\n",
            "l\n",
            "v\n",
            "i\n"
          ]
        }
      ]
    },
    {
      "cell_type": "code",
      "source": [
        "#constructor function"
      ],
      "metadata": {
        "id": "M4wJyvEu9IOA"
      },
      "execution_count": null,
      "outputs": []
    },
    {
      "cell_type": "code",
      "source": [
        "class student:\n",
        "        def __init__(self,name,grade):\n",
        "         self.name=name\n",
        "         self.grade=grade\n",
        "s = student(\"Hamza Alvi\",\"A\")\n",
        "print(\"Name :\",s.name)\n",
        "print(\"Grade :\",s.grade)\n",
        "\n"
      ],
      "metadata": {
        "colab": {
          "base_uri": "https://localhost:8080/"
        },
        "id": "oaTEYiUI-Ms_",
        "outputId": "c49f81dd-a9d2-4e6c-92f4-bf28a412e3d6"
      },
      "execution_count": null,
      "outputs": [
        {
          "output_type": "stream",
          "name": "stdout",
          "text": [
            "Name : Hamza Alvi\n",
            "Grade : A\n"
          ]
        }
      ]
    },
    {
      "cell_type": "code",
      "source": [
        "#while loop\n",
        "i=0\n",
        "while i<10:\n",
        "  i= i+1\n",
        "  if i%2==0:\n",
        "    print(i)\n"
      ],
      "metadata": {
        "colab": {
          "base_uri": "https://localhost:8080/"
        },
        "id": "YWHiTQjH-r4K",
        "outputId": "e53e3988-93ee-46d2-de31-6b7a4f282d39"
      },
      "execution_count": null,
      "outputs": [
        {
          "output_type": "stream",
          "name": "stdout",
          "text": [
            "2\n",
            "4\n",
            "6\n",
            "8\n",
            "10\n"
          ]
        }
      ]
    },
    {
      "cell_type": "code",
      "source": [
        "i=0\n",
        "while i<10:\n",
        "  i=i+1\n",
        "  print(\"5*\",i,\"=\",i*5)"
      ],
      "metadata": {
        "colab": {
          "base_uri": "https://localhost:8080/"
        },
        "id": "OlGoMg0SUfZO",
        "outputId": "e66b13cd-06d7-466f-f795-925e112d4ff6"
      },
      "execution_count": null,
      "outputs": [
        {
          "output_type": "stream",
          "name": "stdout",
          "text": [
            "5* 1 = 5\n",
            "5* 2 = 10\n",
            "5* 3 = 15\n",
            "5* 4 = 20\n",
            "5* 5 = 25\n",
            "5* 6 = 30\n",
            "5* 7 = 35\n",
            "5* 8 = 40\n",
            "5* 9 = 45\n",
            "5* 10 = 50\n"
          ]
        }
      ]
    },
    {
      "cell_type": "code",
      "source": [
        "while True:\n",
        "  i=input(\"Enter password :\")\n",
        "  if i==\"admin123\":\n",
        "    print(\"password is correct\")\n",
        "    break\n",
        "  else:\n",
        "    print(\"password is incorrect\")\n"
      ],
      "metadata": {
        "colab": {
          "base_uri": "https://localhost:8080/"
        },
        "id": "_rm0eR45VQQq",
        "outputId": "cd9c2e42-e3c0-406d-d28c-d49022cd0393"
      },
      "execution_count": null,
      "outputs": [
        {
          "output_type": "stream",
          "name": "stdout",
          "text": [
            "Enter password :admin123\n",
            "password is correct\n"
          ]
        }
      ]
    },
    {
      "cell_type": "code",
      "source": [
        "#oop"
      ],
      "metadata": {
        "id": "dZMjxc7UWH4X"
      },
      "execution_count": null,
      "outputs": []
    },
    {
      "cell_type": "code",
      "source": [
        "class car:\n",
        "  def __init__(self,brand,model,year):\n",
        "    self.brand=brand\n",
        "    self.model=model\n",
        "    self.year=year\n",
        "  def car_info(self):\n",
        "    print(self.brand,self.model,self.year)\n",
        "car1=car(\"Toyota\",\"Corolla\",2025)\n",
        "car1.car_info()\n"
      ],
      "metadata": {
        "colab": {
          "base_uri": "https://localhost:8080/"
        },
        "id": "zL2bKrdhY7ma",
        "outputId": "0d40d67d-6265-432d-bab6-3fe9ad2e3c31"
      },
      "execution_count": null,
      "outputs": [
        {
          "output_type": "stream",
          "name": "stdout",
          "text": [
            "Toyota Corolla 2025\n"
          ]
        }
      ]
    },
    {
      "cell_type": "code",
      "source": [
        "class person:\n",
        "  def __init__(self,name,age):\n",
        "    self.name=name\n",
        "    self.age=age\n",
        "  def show_info(self):\n",
        "    print(self.name,self.age)\n",
        "class student(person):\n",
        "  def __init__(self,name,age,grade):\n",
        "    super().__init__(name,age)\n",
        "    self.grade=grade\n",
        "  def show_grade(self):\n",
        "    print(self.grade)\n",
        "student1= student(\"Hamza Alvi\",20,\"A\")\n",
        "student1.show_info()\n",
        "student1.show_grade()"
      ],
      "metadata": {
        "colab": {
          "base_uri": "https://localhost:8080/"
        },
        "id": "smWw_XlCZylS",
        "outputId": "661d7565-291d-44a8-879e-689af7ca563b"
      },
      "execution_count": null,
      "outputs": [
        {
          "output_type": "stream",
          "name": "stdout",
          "text": [
            "Hamza Alvi 20\n",
            "A\n"
          ]
        }
      ]
    },
    {
      "cell_type": "code",
      "source": [],
      "metadata": {
        "id": "_hGKdNs4cB36"
      },
      "execution_count": null,
      "outputs": []
    }
  ]
}