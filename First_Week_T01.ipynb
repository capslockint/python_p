{
 "cells": [
  {
   "cell_type": "code",
   "execution_count": 46,
   "id": "2ef4f7ae",
   "metadata": {},
   "outputs": [],
   "source": [
    "# Activity 01"
   ]
  },
  {
   "cell_type": "code",
   "execution_count": 1,
   "id": "9b39de3f",
   "metadata": {},
   "outputs": [
    {
     "name": "stdout",
     "output_type": "stream",
     "text": [
      "24 hamza False\n"
     ]
    }
   ],
   "source": [
    "# Tast 01\n",
    "age = 24\n",
    "name = \"hamza\"\n",
    "student = False\n",
    "\n",
    "print(age , name , student)"
   ]
  },
  {
   "cell_type": "code",
   "execution_count": 12,
   "id": "57cc0b7e",
   "metadata": {},
   "outputs": [
    {
     "name": "stdout",
     "output_type": "stream",
     "text": [
      "49\n",
      "smith  hamza\n",
      "True\n"
     ]
    }
   ],
   "source": [
    "total_age = 25 + age\n",
    "print(total_age)\n",
    "print(\"smith \", name)\n",
    "if student == True:\n",
    "    student = False\n",
    "    print(student)\n",
    "else:\n",
    "    student = True\n",
    "    print(student)"
   ]
  },
  {
   "cell_type": "code",
   "execution_count": 13,
   "id": "4687eaf2",
   "metadata": {},
   "outputs": [],
   "source": [
    "# Tast 02"
   ]
  },
  {
   "cell_type": "code",
   "execution_count": 14,
   "id": "99535c2c",
   "metadata": {},
   "outputs": [
    {
     "name": "stdout",
     "output_type": "stream",
     "text": [
      "Area of the rectangle: 17.875\n",
      "Temperature in Fahrenheit: 77.0\n",
      "Area of the circle: 78.53975\n"
     ]
    }
   ],
   "source": [
    "width = 5.5\n",
    "height = 3.25\n",
    "area = width * height\n",
    "print(\"Area of the rectangle:\", area)\n",
    "\n",
    "celsius_temp = 25\n",
    "fahrenheit_temp = (celsius_temp * 9/5) + 32\n",
    "print(\"Temperature in Fahrenheit:\", fahrenheit_temp)\n",
    "\n",
    "radius = 5\n",
    "pi = 3.14159\n",
    "area_circle = pi * radius ** 2\n",
    "print(\"Area of the circle:\", area_circle)"
   ]
  },
  {
   "cell_type": "code",
   "execution_count": 15,
   "id": "8601e375",
   "metadata": {},
   "outputs": [],
   "source": [
    "# Task 03"
   ]
  },
  {
   "cell_type": "code",
   "execution_count": 16,
   "id": "a320d670",
   "metadata": {},
   "outputs": [
    {
     "name": "stdout",
     "output_type": "stream",
     "text": [
      "['apple', 'banana', 'orange', 'grape', 'kiwi']\n"
     ]
    }
   ],
   "source": [
    "fruits = [\"apple\", \"banana\", \"orange\", \"grape\", \"kiwi\"]\n",
    "print(fruits)"
   ]
  },
  {
   "cell_type": "code",
   "execution_count": 17,
   "id": "3c3c75c3",
   "metadata": {},
   "outputs": [
    {
     "name": "stdout",
     "output_type": "stream",
     "text": [
      "('jaun', 'feb', 'may')\n"
     ]
    }
   ],
   "source": [
    "months = (\"jaun\", \"feb\", \"may\")\n",
    "print(months)"
   ]
  },
  {
   "cell_type": "code",
   "execution_count": 18,
   "id": "903378f8",
   "metadata": {},
   "outputs": [],
   "source": [
    "# Task 04"
   ]
  },
  {
   "cell_type": "code",
   "execution_count": 19,
   "id": "1e230c53",
   "metadata": {},
   "outputs": [],
   "source": [
    "numbers = [12, 34, 45, 67, 89, 100, 23, 56]\n",
    "\n",
    "total_sum = sum(numbers)\n",
    "average = total_sum / len(numbers)"
   ]
  },
  {
   "cell_type": "code",
   "execution_count": 20,
   "id": "340a0b49",
   "metadata": {},
   "outputs": [
    {
     "name": "stdout",
     "output_type": "stream",
     "text": [
      "Sum of the numbers: 426\n",
      "Average of the numbers: 53.25\n"
     ]
    }
   ],
   "source": [
    "# Print results\n",
    "print(\"Sum of the numbers:\", total_sum)\n",
    "print(\"Average of the numbers:\", average)"
   ]
  },
  {
   "cell_type": "code",
   "execution_count": 21,
   "id": "2a326809",
   "metadata": {},
   "outputs": [
    {
     "name": "stdout",
     "output_type": "stream",
     "text": [
      "['banana', 'orange', 'grape']\n"
     ]
    }
   ],
   "source": [
    "del fruits[0]\n",
    "del fruits[3]\n",
    "print(fruits)"
   ]
  },
  {
   "cell_type": "code",
   "execution_count": 22,
   "id": "e3635a3a",
   "metadata": {},
   "outputs": [],
   "source": [
    "# Task 05"
   ]
  },
  {
   "cell_type": "code",
   "execution_count": 23,
   "id": "18e7751e",
   "metadata": {},
   "outputs": [
    {
     "name": "stdout",
     "output_type": "stream",
     "text": [
      "{'usa': 'washington D.C', 'france': 'paris', 'japan': 'tokyo'}\n"
     ]
    }
   ],
   "source": [
    "capitals = {\"usa\": \"washington D.C\", \"france\": \"paris\", \"japan\": \"tokyo\"}\n",
    "print(capitals)"
   ]
  },
  {
   "cell_type": "code",
   "execution_count": 24,
   "id": "94576f41",
   "metadata": {},
   "outputs": [
    {
     "name": "stdout",
     "output_type": "stream",
     "text": [
      "{'usa': 'washington D.C', 'france': 'paris', 'japan': 'tokyo', 'germany': 'berlin'}\n"
     ]
    }
   ],
   "source": [
    "capitals['germany'] = 'berlin'\n",
    "print(capitals)\n"
   ]
  },
  {
   "cell_type": "code",
   "execution_count": 25,
   "id": "0856c39d",
   "metadata": {},
   "outputs": [
    {
     "name": "stdout",
     "output_type": "stream",
     "text": [
      "france in a dictionary\n"
     ]
    }
   ],
   "source": [
    "if \"france\" in capitals:\n",
    "    print(\"france in a dictionary\")\n",
    "else:\n",
    "    print(\"france is not in a dictionary\")"
   ]
  },
  {
   "cell_type": "code",
   "execution_count": 26,
   "id": "35d76c0b",
   "metadata": {},
   "outputs": [],
   "source": [
    "# Tast 06"
   ]
  },
  {
   "cell_type": "code",
   "execution_count": 30,
   "id": "7ccaa891",
   "metadata": {},
   "outputs": [
    {
     "name": "stdout",
     "output_type": "stream",
     "text": [
      "Enter a number: 5\n",
      "5  : this number is odd.\n"
     ]
    }
   ],
   "source": [
    "number = int(input(\"Enter a number: \"))\n",
    "\n",
    "if number % 2 == 0:\n",
    "    print(number, \" : this number is even.\")\n",
    "else:\n",
    "    print(number, \" : this number is odd.\")"
   ]
  },
  {
   "cell_type": "code",
   "execution_count": 31,
   "id": "c2f83b5a",
   "metadata": {},
   "outputs": [
    {
     "name": "stdout",
     "output_type": "stream",
     "text": [
      "Eligible for admission\n"
     ]
    }
   ],
   "source": [
    "age = 20\n",
    "gpa = 3.5\n",
    "\n",
    "if age >= 18 and gpa >= 3.0:\n",
    "    print(\"Eligible for admission\")\n",
    "else:\n",
    "    print(\"Not eligible for admission\")"
   ]
  },
  {
   "cell_type": "code",
   "execution_count": 32,
   "id": "8345caf6",
   "metadata": {},
   "outputs": [],
   "source": [
    "# Task 07"
   ]
  },
  {
   "cell_type": "code",
   "execution_count": 33,
   "id": "357aeb44",
   "metadata": {},
   "outputs": [
    {
     "name": "stdout",
     "output_type": "stream",
     "text": [
      "{'banana', 'grape', 'orange', 'kiwi', 'apple'}\n"
     ]
    }
   ],
   "source": [
    "fruits_set = {\"apple\", \"banana\", \"orange\", \"grape\", \"kiwi\"}\n",
    "print(fruits_set)"
   ]
  },
  {
   "cell_type": "code",
   "execution_count": 34,
   "id": "5be823d9",
   "metadata": {},
   "outputs": [],
   "source": [
    "set1 = {1, 2, 3, 4, 5}\n",
    "set2 = {3, 4, 5, 6, 7}"
   ]
  },
  {
   "cell_type": "code",
   "execution_count": 35,
   "id": "990af6e7",
   "metadata": {},
   "outputs": [
    {
     "name": "stdout",
     "output_type": "stream",
     "text": [
      "{1, 2, 3, 4, 5, 6, 7}\n"
     ]
    }
   ],
   "source": [
    "union = set1 | set2\n",
    "print(union)"
   ]
  },
  {
   "cell_type": "code",
   "execution_count": 36,
   "id": "9a59cf1f",
   "metadata": {},
   "outputs": [
    {
     "name": "stdout",
     "output_type": "stream",
     "text": [
      "{3, 4, 5}\n"
     ]
    }
   ],
   "source": [
    "intt = set1 & set2\n",
    "print(intt)"
   ]
  },
  {
   "cell_type": "code",
   "execution_count": 37,
   "id": "a5211170",
   "metadata": {},
   "outputs": [
    {
     "name": "stdout",
     "output_type": "stream",
     "text": [
      "{1, 2}\n"
     ]
    }
   ],
   "source": [
    "diff = set1 - set2\n",
    "print(diff)"
   ]
  },
  {
   "cell_type": "code",
   "execution_count": 38,
   "id": "6cca5b6d",
   "metadata": {},
   "outputs": [
    {
     "name": "stdout",
     "output_type": "stream",
     "text": [
      "no set1 is not subset of set2\n"
     ]
    }
   ],
   "source": [
    "if set1.issubset(set2):\n",
    "    print(\"yes set1 is subset of set2\")\n",
    "else:\n",
    "    print(\"no set1 is not subset of set2\")\n",
    "    "
   ]
  },
  {
   "cell_type": "code",
   "execution_count": 39,
   "id": "a3752e08",
   "metadata": {},
   "outputs": [],
   "source": [
    "# task 08"
   ]
  },
  {
   "cell_type": "code",
   "execution_count": 40,
   "id": "e02f7fa7",
   "metadata": {},
   "outputs": [],
   "source": [
    "z = \"python programming is fun and poweful!\""
   ]
  },
  {
   "cell_type": "code",
   "execution_count": 41,
   "id": "f25640b3",
   "metadata": {},
   "outputs": [
    {
     "data": {
      "text/plain": [
       "38"
      ]
     },
     "execution_count": 41,
     "metadata": {},
     "output_type": "execute_result"
    }
   ],
   "source": [
    "len(z)"
   ]
  },
  {
   "cell_type": "code",
   "execution_count": 42,
   "id": "b03823fd",
   "metadata": {},
   "outputs": [
    {
     "name": "stdout",
     "output_type": "stream",
     "text": [
      "Uppercase: PYTHON PROGRAMMING IS FUN AND POWEFUL!\n"
     ]
    }
   ],
   "source": [
    "uppercase_string = z.upper()\n",
    "print(\"Uppercase:\", uppercase_string)"
   ]
  },
  {
   "cell_type": "code",
   "execution_count": 43,
   "id": "ea5a67c9",
   "metadata": {},
   "outputs": [
    {
     "name": "stdout",
     "output_type": "stream",
     "text": [
      "python programming is exciting and poweful!\n"
     ]
    }
   ],
   "source": [
    "x = z.replace(\"fun\", \"exciting\")\n",
    "print(x)"
   ]
  },
  {
   "cell_type": "code",
   "execution_count": 44,
   "id": "b7bfb3c2",
   "metadata": {},
   "outputs": [
    {
     "name": "stdout",
     "output_type": "stream",
     "text": [
      "yes word python is in a string\n"
     ]
    }
   ],
   "source": [
    "if \"python\" in z:\n",
    "    print(\"yes word python is in a string\")\n",
    "else:\n",
    "    print(\"python word is not in a string\")"
   ]
  },
  {
   "cell_type": "code",
   "execution_count": 45,
   "id": "95b68faa",
   "metadata": {},
   "outputs": [
    {
     "name": "stdout",
     "output_type": "stream",
     "text": [
      "['python', 'programming', 'is', 'fun', 'and', 'poweful!']\n"
     ]
    }
   ],
   "source": [
    "c = z.split()\n",
    "print(c)"
   ]
  },
  {
   "cell_type": "code",
   "execution_count": null,
   "id": "160cc370",
   "metadata": {},
   "outputs": [],
   "source": [
    "# All task completed"
   ]
  }
 ],
 "metadata": {
  "kernelspec": {
   "display_name": "Python 3 (ipykernel)",
   "language": "python",
   "name": "python3"
  },
  "language_info": {
   "codemirror_mode": {
    "name": "ipython",
    "version": 3
   },
   "file_extension": ".py",
   "mimetype": "text/x-python",
   "name": "python",
   "nbconvert_exporter": "python",
   "pygments_lexer": "ipython3",
   "version": "3.12.2"
  }
 },
 "nbformat": 4,
 "nbformat_minor": 5
}
