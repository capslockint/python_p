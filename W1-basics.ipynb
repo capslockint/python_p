{
 "cells": [
  {
   "cell_type": "code",
   "execution_count": 2,
   "id": "0502b466",
   "metadata": {},
   "outputs": [
    {
     "name": "stdout",
     "output_type": "stream",
     "text": [
      "hello\n"
     ]
    }
   ],
   "source": [
    "print(\"hello\")"
   ]
  },
  {
   "cell_type": "code",
   "execution_count": 5,
   "id": "a1a84b6d",
   "metadata": {},
   "outputs": [
    {
     "data": {
      "text/plain": [
       "int"
      ]
     },
     "execution_count": 5,
     "metadata": {},
     "output_type": "execute_result"
    }
   ],
   "source": [
    "a = 3\n",
    "type(a)"
   ]
  },
  {
   "cell_type": "code",
   "execution_count": 10,
   "id": "cd7dbd64",
   "metadata": {},
   "outputs": [
    {
     "name": "stdout",
     "output_type": "stream",
     "text": [
      "True\n"
     ]
    }
   ],
   "source": [
    "a = True\n",
    "print(a)"
   ]
  },
  {
   "cell_type": "code",
   "execution_count": 13,
   "id": "f37d0ab6",
   "metadata": {},
   "outputs": [
    {
     "data": {
      "text/plain": [
       "'1'"
      ]
     },
     "execution_count": 13,
     "metadata": {},
     "output_type": "execute_result"
    }
   ],
   "source": [
    "c = 1\n",
    "str(c)"
   ]
  },
  {
   "cell_type": "code",
   "execution_count": 15,
   "id": "c6b1a981",
   "metadata": {},
   "outputs": [
    {
     "name": "stdout",
     "output_type": "stream",
     "text": [
      "58\n",
      "0.7058823529411765\n"
     ]
    }
   ],
   "source": [
    "q = 24\n",
    "s = 34\n",
    "print (q + s)\n",
    "print (q/s)"
   ]
  },
  {
   "cell_type": "code",
   "execution_count": 16,
   "id": "d7a31b11",
   "metadata": {},
   "outputs": [
    {
     "name": "stdout",
     "output_type": "stream",
     "text": [
      "False\n"
     ]
    }
   ],
   "source": [
    "print(q>s)"
   ]
  },
  {
   "cell_type": "code",
   "execution_count": 17,
   "id": "f275e081",
   "metadata": {},
   "outputs": [
    {
     "name": "stdout",
     "output_type": "stream",
     "text": [
      "False\n"
     ]
    }
   ],
   "source": [
    "print(q>=s)"
   ]
  },
  {
   "cell_type": "code",
   "execution_count": 24,
   "id": "6506d0d8",
   "metadata": {},
   "outputs": [
    {
     "data": {
      "text/plain": [
       "{'hamza': 40, 'alvi': 50, 'ali': 60, 'pakistan': 90}"
      ]
     },
     "execution_count": 24,
     "metadata": {},
     "output_type": "execute_result"
    }
   ],
   "source": [
    "grades = {\"hamza\": 40, \"alvi\": 50, \"ali\": 60, \"pakistan\": 90}\n",
    "grades"
   ]
  },
  {
   "cell_type": "code",
   "execution_count": 26,
   "id": "8d6eb874",
   "metadata": {},
   "outputs": [
    {
     "data": {
      "text/plain": [
       "40"
      ]
     },
     "execution_count": 26,
     "metadata": {},
     "output_type": "execute_result"
    }
   ],
   "source": [
    "grades[\"hamza\"]"
   ]
  },
  {
   "cell_type": "code",
   "execution_count": 27,
   "id": "71185a57",
   "metadata": {},
   "outputs": [
    {
     "data": {
      "text/plain": [
       "((1, 2, 3), (4, 5, 6))"
      ]
     },
     "execution_count": 27,
     "metadata": {},
     "output_type": "execute_result"
    }
   ],
   "source": [
    "mango = (1,2,3),(4,5,6)\n",
    "mango "
   ]
  },
  {
   "cell_type": "code",
   "execution_count": 28,
   "id": "a2a13082",
   "metadata": {},
   "outputs": [
    {
     "name": "stdout",
     "output_type": "stream",
     "text": [
      "numbers\n",
      "1 2 3 4 5\n"
     ]
    }
   ],
   "source": [
    "numbers = (1,2,3,4,5)\n",
    "(a,b,c,d,e) = numbers\n",
    "print(\"numbers\")\n",
    "\n",
    "print(a, b, c,d,e)"
   ]
  },
  {
   "cell_type": "code",
   "execution_count": 34,
   "id": "034c5f5e",
   "metadata": {},
   "outputs": [],
   "source": [
    "num = 10\n",
    "\n",
    "while num>10:\n",
    "    print(\"loop\")\n",
    "    num -= 1"
   ]
  },
  {
   "cell_type": "code",
   "execution_count": null,
   "id": "e56abd67",
   "metadata": {},
   "outputs": [],
   "source": []
  }
 ],
 "metadata": {
  "kernelspec": {
   "display_name": "Python 3 (ipykernel)",
   "language": "python",
   "name": "python3"
  },
  "language_info": {
   "codemirror_mode": {
    "name": "ipython",
    "version": 3
   },
   "file_extension": ".py",
   "mimetype": "text/x-python",
   "name": "python",
   "nbconvert_exporter": "python",
   "pygments_lexer": "ipython3",
   "version": "3.11.7"
  }
 },
 "nbformat": 4,
 "nbformat_minor": 5
}
