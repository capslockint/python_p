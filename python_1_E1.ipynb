{
  "nbformat": 4,
  "nbformat_minor": 0,
  "metadata": {
    "colab": {
      "provenance": []
    },
    "kernelspec": {
      "name": "python3",
      "display_name": "Python 3"
    },
    "language_info": {
      "name": "python"
    }
  },
  "cells": [
    {
      "cell_type": "markdown",
      "source": [
        "#Happy journey"
      ],
      "metadata": {
        "id": "egu62TYHvwSx"
      }
    },
    {
      "cell_type": "markdown",
      "source": [
        "#Print statement\n"
      ],
      "metadata": {
        "id": "YeC3Mf0VtvHB"
      }
    },
    {
      "cell_type": "code",
      "execution_count": 1,
      "metadata": {
        "colab": {
          "base_uri": "https://localhost:8080/"
        },
        "id": "VdzlSx50r2NW",
        "outputId": "644b7bb8-0c88-4efb-ce22-a15070f73d25"
      },
      "outputs": [
        {
          "output_type": "stream",
          "name": "stdout",
          "text": [
            "Hello World\n"
          ]
        }
      ],
      "source": [
        "print(\"Hello World\")"
      ]
    },
    {
      "cell_type": "markdown",
      "source": [
        "#Variables"
      ],
      "metadata": {
        "id": "zDIaR8SIv4bm"
      }
    },
    {
      "cell_type": "code",
      "source": [
        "#adding 2 variables\n",
        "a=10\n",
        "b=15\n",
        "c=a+b\n",
        "print(a,\"+\",b,\"=\",c)"
      ],
      "metadata": {
        "colab": {
          "base_uri": "https://localhost:8080/"
        },
        "id": "A85Kte7Itqe_",
        "outputId": "297746e5-c6dd-4f77-c848-405479186943"
      },
      "execution_count": 4,
      "outputs": [
        {
          "output_type": "stream",
          "name": "stdout",
          "text": [
            "10 + 15 = 25\n"
          ]
        }
      ]
    },
    {
      "cell_type": "code",
      "source": [
        "#variables types             String, Integer, Float, Boolean"
      ],
      "metadata": {
        "id": "wSEw-orDwJON"
      },
      "execution_count": 6,
      "outputs": []
    },
    {
      "cell_type": "code",
      "source": [
        "y= \"Hamza Alvi\"\n",
        "z = 25\n",
        "print(\"My Name IS ,\",y,\"I Am ,\",z,\"Years Old\")"
      ],
      "metadata": {
        "colab": {
          "base_uri": "https://localhost:8080/"
        },
        "id": "EYRhpRh_w9nd",
        "outputId": "7f11ea39-8ec6-41c0-bc77-ac62ca10d2ee"
      },
      "execution_count": 8,
      "outputs": [
        {
          "output_type": "stream",
          "name": "stdout",
          "text": [
            "My Name IS , Hamza Alvi I Am , 25 Years Old\n"
          ]
        }
      ]
    },
    {
      "cell_type": "code",
      "source": [
        "#using different data types in one vaiable\n",
        "v = \"Hamza\", 1 ,2.3\n",
        "print(v)"
      ],
      "metadata": {
        "colab": {
          "base_uri": "https://localhost:8080/"
        },
        "id": "jvXXfHOmxgKw",
        "outputId": "db38aefe-3171-4d09-b0d0-02e53c7f94d8"
      },
      "execution_count": 12,
      "outputs": [
        {
          "output_type": "stream",
          "name": "stdout",
          "text": [
            "('Hamza', 1, 2.3)\n"
          ]
        }
      ]
    },
    {
      "cell_type": "code",
      "source": [
        "type(v)"
      ],
      "metadata": {
        "colab": {
          "base_uri": "https://localhost:8080/"
        },
        "id": "PqdYc-8Gxw_0",
        "outputId": "654caa68-9122-4479-dacd-10e93fe7d968"
      },
      "execution_count": 13,
      "outputs": [
        {
          "output_type": "execute_result",
          "data": {
            "text/plain": [
              "tuple"
            ]
          },
          "metadata": {},
          "execution_count": 13
        }
      ]
    },
    {
      "cell_type": "code",
      "source": [
        "#FString"
      ],
      "metadata": {
        "id": "7v8vkoxbxz2A"
      },
      "execution_count": 14,
      "outputs": []
    },
    {
      "cell_type": "code",
      "source": [
        "print(f\"my name is :\",{y})"
      ],
      "metadata": {
        "colab": {
          "base_uri": "https://localhost:8080/"
        },
        "id": "tY8ixU2QyI0n",
        "outputId": "07f454de-6156-4a85-e604-57732b895fd4"
      },
      "execution_count": 17,
      "outputs": [
        {
          "output_type": "stream",
          "name": "stdout",
          "text": [
            "my name is : {'Hamza Alvi'}\n"
          ]
        }
      ]
    },
    {
      "cell_type": "markdown",
      "source": [
        "#Taking Input\n"
      ],
      "metadata": {
        "id": "ezO0r433yj3O"
      }
    },
    {
      "cell_type": "code",
      "source": [
        "My_Name = input(\"What Is Your Name\")\n",
        "print(My_Name)"
      ],
      "metadata": {
        "colab": {
          "base_uri": "https://localhost:8080/"
        },
        "id": "v2ocsGvPyaZM",
        "outputId": "dd796456-e6b9-4da5-9c36-aef996a37e8b"
      },
      "execution_count": 19,
      "outputs": [
        {
          "output_type": "stream",
          "name": "stdout",
          "text": [
            "What Is Your NameHamza\n",
            "Hamza\n"
          ]
        }
      ]
    },
    {
      "cell_type": "code",
      "source": [
        "print(My_Name.upper())"
      ],
      "metadata": {
        "colab": {
          "base_uri": "https://localhost:8080/"
        },
        "id": "IgffuSnmzAet",
        "outputId": "d113e2d6-b01c-4bfa-92ec-af4012476ac8"
      },
      "execution_count": 20,
      "outputs": [
        {
          "output_type": "stream",
          "name": "stdout",
          "text": [
            "HAMZA\n"
          ]
        }
      ]
    },
    {
      "cell_type": "code",
      "source": [
        "print(My_Name.lower())"
      ],
      "metadata": {
        "colab": {
          "base_uri": "https://localhost:8080/"
        },
        "id": "DEnfCQLQzYEt",
        "outputId": "ac585ab1-918e-4a4d-cf97-12cd839bd494"
      },
      "execution_count": 21,
      "outputs": [
        {
          "output_type": "stream",
          "name": "stdout",
          "text": [
            "hamza\n"
          ]
        }
      ]
    },
    {
      "cell_type": "markdown",
      "source": [
        "#Operators"
      ],
      "metadata": {
        "id": "HnXoPb6S3fs9"
      }
    },
    {
      "cell_type": "code",
      "source": [
        "#Arithemetics\n",
        "print(\"Addition:\", a+b)\n",
        "print(\"Subtraction:\", a-b)\n",
        "print(\"Multiplication:\", a*b)\n",
        "print(\"Division:\", a/b)\n",
        "print(\"Modulus:\", a%b)  #Remainder\n",
        "print(\"Exponential:\", a**b)\n",
        "print(\"Floor Division:\", a//b)  #neglect the numbers after point(.)"
      ],
      "metadata": {
        "colab": {
          "base_uri": "https://localhost:8080/"
        },
        "id": "1cY5f9CJzcXX",
        "outputId": "f777cb03-61cb-4927-bd64-eccbfb304587"
      },
      "execution_count": 22,
      "outputs": [
        {
          "output_type": "stream",
          "name": "stdout",
          "text": [
            "Addition: 25\n",
            "Subtraction: -5\n",
            "Multiplication: 150\n",
            "Division: 0.6666666666666666\n",
            "Modulus: 10\n",
            "Exponential: 1000000000000000\n",
            "Floor Division: 0\n"
          ]
        }
      ]
    },
    {
      "cell_type": "code",
      "source": [
        "#Comparison operators"
      ],
      "metadata": {
        "id": "JrwM0DRk37V2"
      },
      "execution_count": 23,
      "outputs": []
    },
    {
      "cell_type": "code",
      "source": [
        "print(a == b)\n",
        "print( a < b)\n",
        "print( a <= b)\n",
        "print( a > b)\n",
        "print( a >= b)\n",
        "print( a != b)"
      ],
      "metadata": {
        "colab": {
          "base_uri": "https://localhost:8080/"
        },
        "id": "ckNtOgy34bbm",
        "outputId": "670a4154-3078-482d-aead-fe0713bb15f8"
      },
      "execution_count": 24,
      "outputs": [
        {
          "output_type": "stream",
          "name": "stdout",
          "text": [
            "False\n",
            "True\n",
            "True\n",
            "False\n",
            "False\n",
            "True\n"
          ]
        }
      ]
    },
    {
      "cell_type": "code",
      "source": [
        "o = 9\n",
        "i = 8\n",
        "Num = int(input(\"Enter a number :\"))\n",
        "if o > Num and o > i :\n",
        "  print(\"i is the beggest number\")\n",
        "elif o > i and o < Num:\n",
        "  print(\"Num is the biggest number\")\n"
      ],
      "metadata": {
        "colab": {
          "base_uri": "https://localhost:8080/"
        },
        "id": "vEfR_hCb4dxS",
        "outputId": "7028b5c0-04f6-4a3a-84d7-1c021471501e"
      },
      "execution_count": 32,
      "outputs": [
        {
          "output_type": "stream",
          "name": "stdout",
          "text": [
            "Enter a number :10\n",
            "Num is the biggest number\n"
          ]
        }
      ]
    },
    {
      "cell_type": "code",
      "source": [
        "if o > i and o!=i:\n",
        "  print(\"statement is working\")"
      ],
      "metadata": {
        "colab": {
          "base_uri": "https://localhost:8080/"
        },
        "id": "qwBREJqa46xC",
        "outputId": "020fb384-cb53-4570-f34b-c8e307db4a8f"
      },
      "execution_count": 34,
      "outputs": [
        {
          "output_type": "stream",
          "name": "stdout",
          "text": [
            "statement is working\n"
          ]
        }
      ]
    },
    {
      "cell_type": "markdown",
      "source": [
        "#Data Structures\n",
        "#list ,tuple ,set ,dictionary"
      ],
      "metadata": {
        "id": "EcU4sCYf6_lX"
      }
    },
    {
      "cell_type": "code",
      "source": [
        "#LIST\n",
        "# We can modify, append list\n",
        "# we can remove items from the list\n",
        "# we can sort and reverse list\n",
        "# we can count items in the list"
      ],
      "metadata": {
        "id": "T5NNn3gy6zVt"
      },
      "execution_count": 35,
      "outputs": []
    },
    {
      "cell_type": "code",
      "source": [
        "fruits = [\"apple\",\"orange\",\"banana\",1,1.5,True]\n",
        "print(fruits)"
      ],
      "metadata": {
        "colab": {
          "base_uri": "https://localhost:8080/"
        },
        "id": "Kwuf2dTU7lPc",
        "outputId": "571bddad-695f-460a-f20b-5d063e6c889a"
      },
      "execution_count": 40,
      "outputs": [
        {
          "output_type": "stream",
          "name": "stdout",
          "text": [
            "['apple', 'orange', 'banana', 1, 1.5, True]\n"
          ]
        }
      ]
    },
    {
      "cell_type": "code",
      "source": [
        "#indexing the itmes in list\n",
        "fruits[1]"
      ],
      "metadata": {
        "colab": {
          "base_uri": "https://localhost:8080/",
          "height": 35
        },
        "id": "L14SM-uJ7xCs",
        "outputId": "c7202c6c-03a4-49d5-b2a5-c14a078a0e85"
      },
      "execution_count": 41,
      "outputs": [
        {
          "output_type": "execute_result",
          "data": {
            "text/plain": [
              "'orange'"
            ],
            "application/vnd.google.colaboratory.intrinsic+json": {
              "type": "string"
            }
          },
          "metadata": {},
          "execution_count": 41
        }
      ]
    },
    {
      "cell_type": "code",
      "source": [
        "#Removing items in list\n",
        "fruits.remove(\"apple\")\n",
        "print(fruits)"
      ],
      "metadata": {
        "colab": {
          "base_uri": "https://localhost:8080/"
        },
        "id": "cXU2rx1z8sPu",
        "outputId": "43813d40-6b9b-4f94-befa-913c9630bb39"
      },
      "execution_count": 42,
      "outputs": [
        {
          "output_type": "stream",
          "name": "stdout",
          "text": [
            "['orange', 'banana', 1, 1.5, True]\n"
          ]
        }
      ]
    },
    {
      "cell_type": "code",
      "source": [
        "#Adding in list\n",
        "fruits.append(\"graps\")\n",
        "print(fruits)"
      ],
      "metadata": {
        "colab": {
          "base_uri": "https://localhost:8080/"
        },
        "id": "JiYva5G987DY",
        "outputId": "95355f08-b979-4fd1-a9d3-69e0cfcede32"
      },
      "execution_count": 43,
      "outputs": [
        {
          "output_type": "stream",
          "name": "stdout",
          "text": [
            "['orange', 'banana', 1, 1.5, True, 'graps']\n"
          ]
        }
      ]
    },
    {
      "cell_type": "code",
      "source": [
        "#reverse the list\n",
        "fruits.reverse()\n",
        "print(fruits)"
      ],
      "metadata": {
        "colab": {
          "base_uri": "https://localhost:8080/"
        },
        "id": "8XZidZD29Qz5",
        "outputId": "419428ed-b0a4-4ac4-c0b1-c5fa15a4faee"
      },
      "execution_count": 46,
      "outputs": [
        {
          "output_type": "stream",
          "name": "stdout",
          "text": [
            "['graps', True, 1.5, 1, 'banana', 'orange']\n"
          ]
        }
      ]
    },
    {
      "cell_type": "code",
      "source": [
        "#Count items in list\n",
        "fruits.count(\"banana\")"
      ],
      "metadata": {
        "colab": {
          "base_uri": "https://localhost:8080/"
        },
        "id": "pGI3rFPM9ZtK",
        "outputId": "483ff78f-d066-4188-d07f-8af3cad7d5e6"
      },
      "execution_count": 47,
      "outputs": [
        {
          "output_type": "execute_result",
          "data": {
            "text/plain": [
              "1"
            ]
          },
          "metadata": {},
          "execution_count": 47
        }
      ]
    },
    {
      "cell_type": "code",
      "source": [
        "#clear the list\n",
        "fruits.clear()\n",
        "print(fruits)"
      ],
      "metadata": {
        "colab": {
          "base_uri": "https://localhost:8080/"
        },
        "id": "tIdRaDdG9o7L",
        "outputId": "df498ece-95af-4ce3-c20c-958e4e550dda"
      },
      "execution_count": 50,
      "outputs": [
        {
          "output_type": "stream",
          "name": "stdout",
          "text": [
            "[]\n"
          ]
        }
      ]
    },
    {
      "cell_type": "code",
      "source": [
        "#Sort the list\n",
        "fruits1 = [\"apple\",\"orange\",\"banana\"]\n",
        "fruits1.sort()\n",
        "print(fruits1)"
      ],
      "metadata": {
        "colab": {
          "base_uri": "https://localhost:8080/"
        },
        "id": "aOnsef1F90ah",
        "outputId": "95ef760b-576a-421b-edca-a2cb0c6951a9"
      },
      "execution_count": 51,
      "outputs": [
        {
          "output_type": "stream",
          "name": "stdout",
          "text": [
            "['apple', 'banana', 'orange']\n"
          ]
        }
      ]
    },
    {
      "cell_type": "code",
      "source": [
        "#2D Array"
      ],
      "metadata": {
        "id": "Qu7cYrH6MamV"
      },
      "execution_count": 4,
      "outputs": []
    },
    {
      "cell_type": "code",
      "source": [
        "#The data elements in two dimesnional arrays can be accessed using two indices\n",
        "#accessing elemests in 2D array\n",
        "Q = [[11, 12, 5, 2], [15, 6,10], [10, 8, 12, 5], [12,15,8,6]]\n",
        "print(Q[0])\n",
        "print(Q[3][2])"
      ],
      "metadata": {
        "colab": {
          "base_uri": "https://localhost:8080/"
        },
        "id": "FRjX1ocFMgBG",
        "outputId": "4009e58c-f574-4fd1-80b3-33d2f4b13437"
      },
      "execution_count": 10,
      "outputs": [
        {
          "output_type": "stream",
          "name": "stdout",
          "text": [
            "[11, 12, 5, 2]\n",
            "8\n"
          ]
        }
      ]
    },
    {
      "cell_type": "code",
      "source": [
        "#Inserting elemests i 2D array\n",
        "#first parameter is index and 2nd is value\n",
        "Q.insert(1,[19,\"R\",20.5])\n",
        "print(Q)\n"
      ],
      "metadata": {
        "colab": {
          "base_uri": "https://localhost:8080/"
        },
        "id": "UGuotDzSNB7H",
        "outputId": "b3540fa9-e406-41d6-f754-0ec5800467dd"
      },
      "execution_count": 11,
      "outputs": [
        {
          "output_type": "stream",
          "name": "stdout",
          "text": [
            "[[11, 12, 5, 2], [19, 'R', 20.5], [15, 6, 10], [10, 8, 12, 5], [12, 15, 8, 6]]\n"
          ]
        }
      ]
    },
    {
      "cell_type": "code",
      "source": [
        "#UPDATING elemest in 2D array\n",
        "Q[2] = \"Hamza Alvi\"\n",
        "Q[3][3] = \"HEHEHE\"\n",
        "print(Q)"
      ],
      "metadata": {
        "colab": {
          "base_uri": "https://localhost:8080/"
        },
        "id": "WRleygPUNo1E",
        "outputId": "0baeb2f1-c129-48f6-c1c7-c048b254a2a5"
      },
      "execution_count": 13,
      "outputs": [
        {
          "output_type": "stream",
          "name": "stdout",
          "text": [
            "[[11, 12, 5, 2], [19, 'R', 20.5], 'Hamza Alvi', [10, 8, 12, 'HEHEHE'], [12, 15, 8, 6]]\n"
          ]
        }
      ]
    },
    {
      "cell_type": "code",
      "source": [
        "#Deleting the values in 2D array\n",
        "del Q[4][2]\n",
        "print(Q)"
      ],
      "metadata": {
        "colab": {
          "base_uri": "https://localhost:8080/"
        },
        "id": "7Gr4yGHKOB25",
        "outputId": "02c1784d-0ec2-4005-e527-c9f275a596ab"
      },
      "execution_count": 15,
      "outputs": [
        {
          "output_type": "stream",
          "name": "stdout",
          "text": [
            "[[11, 12, 5, 2], [19, 'R', 20.5], 'Hamza Alvi', [10, 8, 12, 'HEHEHE'], [12, 15, 6]]\n"
          ]
        }
      ]
    },
    {
      "cell_type": "markdown",
      "source": [
        "#Tuple"
      ],
      "metadata": {
        "id": "oAr_RwJg-TDo"
      }
    },
    {
      "cell_type": "code",
      "source": [
        " # we can't modify tuple\n",
        "# we can't add and remove items"
      ],
      "metadata": {
        "id": "GpEyenhSLQkb"
      },
      "execution_count": 1,
      "outputs": []
    },
    {
      "cell_type": "code",
      "source": [
        "my_tuple = (\"orange\", 1 , 2)\n",
        "print(my_tuple)"
      ],
      "metadata": {
        "colab": {
          "base_uri": "https://localhost:8080/"
        },
        "id": "S6J_vPqELRnk",
        "outputId": "dfaeafa4-a2c9-4c9a-ff8a-ba1ac0e15720"
      },
      "execution_count": 2,
      "outputs": [
        {
          "output_type": "stream",
          "name": "stdout",
          "text": [
            "('orange', 1, 2)\n"
          ]
        }
      ]
    },
    {
      "cell_type": "code",
      "source": [
        "len(my_tuple)"
      ],
      "metadata": {
        "colab": {
          "base_uri": "https://localhost:8080/"
        },
        "id": "78QOexDlLi8C",
        "outputId": "621f08c3-a4dd-4dd9-85e3-64f38d2830b9"
      },
      "execution_count": 3,
      "outputs": [
        {
          "output_type": "execute_result",
          "data": {
            "text/plain": [
              "3"
            ]
          },
          "metadata": {},
          "execution_count": 3
        }
      ]
    },
    {
      "cell_type": "markdown",
      "source": [
        "#Dictionay"
      ],
      "metadata": {
        "id": "pVcwuW6gO6tb"
      }
    },
    {
      "cell_type": "code",
      "source": [
        "student = {'name':'Hamza', 'age': 25.5, '####' : 33.6 ,'phone': 840 , 'courses': ('maths', 'science')}\n",
        "print(student[\"age\"])\n",
        "print(student.get(\"pone_number\",\"Not found in dic data\"))\n",
        "print(student.get(\"phone\"))\n",
        "print(student.get(\"####\",\"Not found in dic data\"))\n",
        "print(type(student))"
      ],
      "metadata": {
        "colab": {
          "base_uri": "https://localhost:8080/"
        },
        "id": "ZeRfT3A2PJ7j",
        "outputId": "a5389ee2-b78d-44c8-c360-daec056f3106"
      },
      "execution_count": 21,
      "outputs": [
        {
          "output_type": "stream",
          "name": "stdout",
          "text": [
            "25.5\n",
            "Not found in dic data\n",
            "840\n",
            "33.6\n",
            "<class 'dict'>\n"
          ]
        }
      ]
    },
    {
      "cell_type": "markdown",
      "source": [
        "#Slicing a List"
      ],
      "metadata": {
        "id": "QbUQeXA081vV"
      }
    },
    {
      "cell_type": "code",
      "source": [
        "#list[start:end:step]\n",
        "numbers = [10, 20, 30, 40, 50, 60]\n",
        "print(numbers)\n",
        "print(numbers[0:4])\n",
        "print(numbers[:3])\n",
        "print(numbers[3:])\n",
        "#reverse the list\n",
        "print(numbers[::-1])\n",
        "#jump in list\n",
        "print(numbers[0:6:2])\n",
        "#reverse jump\n",
        "print(numbers[::-2])"
      ],
      "metadata": {
        "colab": {
          "base_uri": "https://localhost:8080/"
        },
        "id": "plrwX4Ml8zoi",
        "outputId": "d95399c7-736b-44e8-d410-cee36cc9196c"
      },
      "execution_count": 11,
      "outputs": [
        {
          "output_type": "stream",
          "name": "stdout",
          "text": [
            "[10, 20, 30, 40, 50, 60]\n",
            "[10, 20, 30, 40]\n",
            "[10, 20, 30]\n",
            "[40, 50, 60]\n",
            "[60, 50, 40, 30, 20, 10]\n",
            "[10, 30, 50]\n",
            "[60, 40, 20]\n"
          ]
        }
      ]
    },
    {
      "cell_type": "markdown",
      "source": [
        "#CONDITIONAL STATEMENT AND LOOPS"
      ],
      "metadata": {
        "id": "kTWyNChgy6wt"
      }
    },
    {
      "cell_type": "code",
      "source": [
        "#if else\n",
        "x = int(input(\"Enter a number to check its even or odd :\"))\n",
        "if x % 2 == 0 :\n",
        "  print(\"its even number\")\n",
        "elif x % 2 != 0:\n",
        "  print(\"its odd number\")"
      ],
      "metadata": {
        "colab": {
          "base_uri": "https://localhost:8080/"
        },
        "id": "eiXnoTH79wIb",
        "outputId": "e7e9457e-cc00-440a-8143-715df04d0eb9"
      },
      "execution_count": 5,
      "outputs": [
        {
          "output_type": "stream",
          "name": "stdout",
          "text": [
            "Enter a number to check its even or odd :96\n",
            "its even number\n"
          ]
        }
      ]
    },
    {
      "cell_type": "code",
      "source": [
        "#For Loop\n",
        "L = [\"Apple\", \"Banana\", \"Orange\", \"Mango\"]\n",
        "for items in L:\n",
        "  print(\"current fruite item is :\",items)\n"
      ],
      "metadata": {
        "colab": {
          "base_uri": "https://localhost:8080/"
        },
        "id": "UxjT2Dlc2kk4",
        "outputId": "03421d04-e9d2-4c74-a87d-94f71122e8d6"
      },
      "execution_count": 7,
      "outputs": [
        {
          "output_type": "stream",
          "name": "stdout",
          "text": [
            "current fruite item is : Apple\n",
            "current fruite item is : Banana\n",
            "current fruite item is : Orange\n",
            "current fruite item is : Mango\n"
          ]
        }
      ]
    },
    {
      "cell_type": "code",
      "source": [
        "#print numbers from 0 to 10\n",
        "for items in range(0,11):\n",
        "  print(\"The loop number is :\",items)"
      ],
      "metadata": {
        "colab": {
          "base_uri": "https://localhost:8080/"
        },
        "id": "E61OelIL70jU",
        "outputId": "de9b8b88-4ca5-401a-973a-97f5e868d9fd"
      },
      "execution_count": 9,
      "outputs": [
        {
          "output_type": "stream",
          "name": "stdout",
          "text": [
            "The loop number is : 0\n",
            "The loop number is : 1\n",
            "The loop number is : 2\n",
            "The loop number is : 3\n",
            "The loop number is : 4\n",
            "The loop number is : 5\n",
            "The loop number is : 6\n",
            "The loop number is : 7\n",
            "The loop number is : 8\n",
            "The loop number is : 9\n",
            "The loop number is : 10\n"
          ]
        }
      ]
    },
    {
      "cell_type": "code",
      "source": [],
      "metadata": {
        "id": "92WE41er8epj"
      },
      "execution_count": null,
      "outputs": []
    }
  ]
}